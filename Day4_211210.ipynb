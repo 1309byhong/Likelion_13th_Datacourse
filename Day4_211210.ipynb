{
  "nbformat": 4,
  "nbformat_minor": 0,
  "metadata": {
    "colab": {
      "name": "Day4_211210.ipynb",
      "provenance": [],
      "authorship_tag": "ABX9TyNeI1MEcx0L9A6RWjnCtxTI",
      "include_colab_link": true
    },
    "kernelspec": {
      "name": "python3",
      "display_name": "Python 3"
    },
    "language_info": {
      "name": "python"
    }
  },
  "cells": [
    {
      "cell_type": "markdown",
      "metadata": {
        "id": "view-in-github",
        "colab_type": "text"
      },
      "source": [
        "<a href=\"https://colab.research.google.com/github/1309byhong/Likelion_13th_Datacourse/blob/main/Day4_211210.ipynb\" target=\"_parent\"><img src=\"https://colab.research.google.com/assets/colab-badge.svg\" alt=\"Open In Colab\"/></a>"
      ]
    },
    {
      "cell_type": "code",
      "execution_count": 1,
      "metadata": {
        "id": "VB2CmnCmPTGO"
      },
      "outputs": [],
      "source": [
        "#자료형 변환"
      ]
    },
    {
      "cell_type": "code",
      "source": [
        "print(bool(True))\n",
        "print(bool(False))\n",
        "print(bool(10))\n",
        "print(bool(0b010))\n",
        "print(bool(0o130))\n",
        "print(bool(0xABC))\n",
        "print(bool(12.34))\n",
        "print(bool(1234e-2))\n",
        "print(bool('10'))"
      ],
      "metadata": {
        "colab": {
          "base_uri": "https://localhost:8080/"
        },
        "id": "94xMoab9Qwz9",
        "outputId": "9202094c-e7ea-4072-a1d5-e3ac1a17dd42"
      },
      "execution_count": 3,
      "outputs": [
        {
          "output_type": "stream",
          "name": "stdout",
          "text": [
            "True\n",
            "False\n",
            "True\n",
            "True\n",
            "True\n",
            "True\n",
            "True\n",
            "True\n",
            "True\n"
          ]
        }
      ]
    },
    {
      "cell_type": "code",
      "source": [
        "print(int(True))\n",
        "print(int(False))\n",
        "print(int(10))\n",
        "print(int(0b010))\n",
        "print(int(0o130))\n",
        "print(int(0xABC))\n",
        "print(int(12.34))\n",
        "print(int(1234e-2))\n",
        "print(int('10'))\n",
        "print(int('010',2))\n",
        "print(int('130',8))\n",
        "print(int('ABC',16))\n"
      ],
      "metadata": {
        "colab": {
          "base_uri": "https://localhost:8080/"
        },
        "id": "1fK-PPFvR8oC",
        "outputId": "871d1946-76d4-4f2c-a6fb-ba0deb983429"
      },
      "execution_count": 4,
      "outputs": [
        {
          "output_type": "stream",
          "name": "stdout",
          "text": [
            "1\n",
            "0\n",
            "10\n",
            "2\n",
            "88\n",
            "2748\n",
            "12\n",
            "12\n",
            "10\n",
            "2\n",
            "88\n",
            "2748\n"
          ]
        }
      ]
    },
    {
      "cell_type": "code",
      "source": [
        "print(float(True))\n",
        "print(float(False))\n",
        "print(float(10))\n",
        "print(float(0b010))\n",
        "print(float(0o130))\n",
        "print(float(0xABC))\n",
        "print(float(12.34))\n",
        "print(float(1234e-2))\n",
        "print(float('10'))"
      ],
      "metadata": {
        "colab": {
          "base_uri": "https://localhost:8080/"
        },
        "id": "O2YGZguFTTXi",
        "outputId": "3a876809-4dc3-4845-b7c9-6eb35efaa80b"
      },
      "execution_count": 5,
      "outputs": [
        {
          "output_type": "stream",
          "name": "stdout",
          "text": [
            "1.0\n",
            "0.0\n",
            "10.0\n",
            "2.0\n",
            "88.0\n",
            "2748.0\n",
            "12.34\n",
            "12.34\n",
            "10.0\n"
          ]
        }
      ]
    },
    {
      "cell_type": "code",
      "source": [
        "#complex()\n",
        "#복소수형으로 변환 가능"
      ],
      "metadata": {
        "id": "e8OaiGCTUBzA"
      },
      "execution_count": 6,
      "outputs": []
    },
    {
      "cell_type": "code",
      "source": [
        "print(complex(True))\n",
        "print(complex(False))\n",
        "print(complex(10))\n",
        "print(complex(0b010))\n",
        "print(complex(0o130))\n",
        "print(complex(0xABC))\n",
        "print(complex(12.34))\n",
        "print(complex(1234e-2))\n",
        "print(complex(1+23j))\n",
        "print(complex('10'))"
      ],
      "metadata": {
        "colab": {
          "base_uri": "https://localhost:8080/"
        },
        "id": "tCxtZwyoUTZJ",
        "outputId": "650e4744-8692-457e-e36a-f7760422c731"
      },
      "execution_count": 7,
      "outputs": [
        {
          "output_type": "stream",
          "name": "stdout",
          "text": [
            "(1+0j)\n",
            "0j\n",
            "(10+0j)\n",
            "(2+0j)\n",
            "(88+0j)\n",
            "(2748+0j)\n",
            "(12.34+0j)\n",
            "(12.34+0j)\n",
            "(1+23j)\n",
            "(10+0j)\n"
          ]
        }
      ]
    },
    {
      "cell_type": "code",
      "source": [
        ""
      ],
      "metadata": {
        "id": "bY9Cr2aCUu4U"
      },
      "execution_count": null,
      "outputs": []
    }
  ]
}