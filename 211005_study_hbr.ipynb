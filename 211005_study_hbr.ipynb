{
  "nbformat": 4,
  "nbformat_minor": 0,
  "metadata": {
    "colab": {
      "name": "211005_study_hbr.ipynb",
      "provenance": [],
      "collapsed_sections": [],
      "authorship_tag": "ABX9TyMV7qshegkw2KAxhbmfFZkJ",
      "include_colab_link": true
    },
    "kernelspec": {
      "name": "python3",
      "display_name": "Python 3"
    },
    "language_info": {
      "name": "python"
    }
  },
  "cells": [
    {
      "cell_type": "markdown",
      "metadata": {
        "id": "view-in-github",
        "colab_type": "text"
      },
      "source": [
        "<a href=\"https://colab.research.google.com/github/1309byhong/Likelion_13th_Datacourse/blob/main/211005_study_hbr.ipynb\" target=\"_parent\"><img src=\"https://colab.research.google.com/assets/colab-badge.svg\" alt=\"Open In Colab\"/></a>"
      ]
    },
    {
      "cell_type": "code",
      "metadata": {
        "id": "B-mcSMFQIFWi"
      },
      "source": [
        "#211005\n",
        "#네이버_블로그_스크래핑\n",
        "#개인블로그의 한달단위 글 분석을 위한 기초단계 \n",
        "\n",
        "from bs4 import BeautifulSoup\n",
        "import urllib.request\n",
        "from urllib.parse import quote\n",
        "import pandas as pd\n",
        "\n",
        "def get_posts(query,page_num=10):\n",
        "  url1_query = quote(query)\n",
        "  url = \"https://section.blog.naver.com/BlogHome.naver?directoryNo=0&currentPage=1&groupId=0\" + url_query\n",
        "  post_df = pd.DataFrame(columns=(\"Title\",\"Date\",\"Blogger\",\"Blog URL\",\"Post URL\",\"Post\"))\n",
        "\n",
        "  for _ in range(0,page_num):\n",
        "    search_url = urllib.request.urlopen(url).read()\n",
        "    soup = BeautifulSoup(search_url,\"html.parser\")\n",
        "    posts = soup.find_all('li',{'class':'sh_blog_tip'})\n",
        "\n",
        "    for post in posts:\n",
        "      title = post.find('a',{'class' : 'sh_blog_title_sp_each_url_sp_each_title'}).get('title')\n",
        "      date = post.find('dd',{'class':'txt_inline'}).get_text()\n",
        "      blogger = post.find('a',{'class':'txt84'}).get_text()\n",
        "      blog_url = post.find('a',{'class':'txt84'}).get('href')\n",
        "      post_url = post.find('a',{'class':'url'}).get('href')\n",
        "      post_link = urllib.request.urlopen(post_url).read()\n",
        "      post_html = BeautifulSoup(post_link,'html.parser')\n",
        "\n",
        "      for main_frame in post_html.select(\"ifram#mainFrame\"):\n",
        "        frame_url = \"http://blog.naver.com\" + main_frame.get('src')\n",
        "        post_text = urllib.request.urlopen(frame_url).read()\n",
        "        post_html = BeautifulSoup(post_text,'html.parser')\n",
        "        post_content_text = \"\"\n",
        "        \n",
        "        for post_content in post_html.find_all('div',{'class' : 'se-main=container'}):\n",
        "          post_content_text = post_content.get_text()\n",
        "\n",
        "        post_df.loc[idx] = [Title, date, blogger, blog_url, post_url, post_content_text]\n",
        "        idx += 1\n",
        "        print(\"#\", end=\"\")\n",
        "      \n",
        "      try:\n",
        "        next = soup.find('a',{'class':'next'}).get('href')\n",
        "        url = \"http://search.naver.com/search.naver\" + next\n",
        "      except:\n",
        "        break\n",
        "\n",
        "    return post_df"
      ],
      "execution_count": 3,
      "outputs": []
    },
    {
      "cell_type": "markdown",
      "metadata": {
        "id": "B6Gr7s7SG18h"
      },
      "source": [
        ""
      ]
    },
    {
      "cell_type": "code",
      "metadata": {
        "colab": {
          "base_uri": "https://localhost:8080/",
          "height": 351
        },
        "id": "8Q6NeEBtK-77",
        "outputId": "b3e409ad-3f49-4d21-970e-63f1332c3b34"
      },
      "source": [
        "query = input(\"검색질의:\")\n",
        "post_df = get_posts(query,1)\n",
        "print(\"Done\")"
      ],
      "execution_count": 4,
      "outputs": [
        {
          "name": "stdout",
          "output_type": "stream",
          "text": [
            "검색질의:인공지능\n"
          ]
        },
        {
          "output_type": "error",
          "ename": "NameError",
          "evalue": "ignored",
          "traceback": [
            "\u001b[0;31m---------------------------------------------------------------------------\u001b[0m",
            "\u001b[0;31mNameError\u001b[0m                                 Traceback (most recent call last)",
            "\u001b[0;32m<ipython-input-4-0b007a1ad005>\u001b[0m in \u001b[0;36m<module>\u001b[0;34m()\u001b[0m\n\u001b[1;32m      1\u001b[0m \u001b[0mquery\u001b[0m \u001b[0;34m=\u001b[0m \u001b[0minput\u001b[0m\u001b[0;34m(\u001b[0m\u001b[0;34m\"검색질의:\"\u001b[0m\u001b[0;34m)\u001b[0m\u001b[0;34m\u001b[0m\u001b[0;34m\u001b[0m\u001b[0m\n\u001b[0;32m----> 2\u001b[0;31m \u001b[0mpost_df\u001b[0m \u001b[0;34m=\u001b[0m \u001b[0mget_posts\u001b[0m\u001b[0;34m(\u001b[0m\u001b[0mquery\u001b[0m\u001b[0;34m,\u001b[0m\u001b[0;36m1\u001b[0m\u001b[0;34m)\u001b[0m\u001b[0;34m\u001b[0m\u001b[0;34m\u001b[0m\u001b[0m\n\u001b[0m\u001b[1;32m      3\u001b[0m \u001b[0mprint\u001b[0m\u001b[0;34m(\u001b[0m\u001b[0;34m\"Done\"\u001b[0m\u001b[0;34m)\u001b[0m\u001b[0;34m\u001b[0m\u001b[0;34m\u001b[0m\u001b[0m\n",
            "\u001b[0;32m<ipython-input-3-e3dce54b2f42>\u001b[0m in \u001b[0;36mget_posts\u001b[0;34m(query, page_num)\u001b[0m\n\u001b[1;32m      6\u001b[0m \u001b[0;32mdef\u001b[0m \u001b[0mget_posts\u001b[0m\u001b[0;34m(\u001b[0m\u001b[0mquery\u001b[0m\u001b[0;34m,\u001b[0m\u001b[0mpage_num\u001b[0m\u001b[0;34m=\u001b[0m\u001b[0;36m10\u001b[0m\u001b[0;34m)\u001b[0m\u001b[0;34m:\u001b[0m\u001b[0;34m\u001b[0m\u001b[0;34m\u001b[0m\u001b[0m\n\u001b[1;32m      7\u001b[0m   \u001b[0murl1_query\u001b[0m \u001b[0;34m=\u001b[0m \u001b[0mquote\u001b[0m\u001b[0;34m(\u001b[0m\u001b[0mquery\u001b[0m\u001b[0;34m)\u001b[0m\u001b[0;34m\u001b[0m\u001b[0;34m\u001b[0m\u001b[0m\n\u001b[0;32m----> 8\u001b[0;31m   \u001b[0murl\u001b[0m \u001b[0;34m=\u001b[0m \u001b[0;34m\"https://section.blog.naver.com/BlogHome.naver?directoryNo=0&currentPage=1&groupId=0\"\u001b[0m \u001b[0;34m+\u001b[0m \u001b[0murl_query\u001b[0m\u001b[0;34m\u001b[0m\u001b[0;34m\u001b[0m\u001b[0m\n\u001b[0m\u001b[1;32m      9\u001b[0m   \u001b[0mpost_df\u001b[0m \u001b[0;34m=\u001b[0m \u001b[0mpd\u001b[0m\u001b[0;34m.\u001b[0m\u001b[0mDataFrame\u001b[0m\u001b[0;34m(\u001b[0m\u001b[0mcolumns\u001b[0m\u001b[0;34m=\u001b[0m\u001b[0;34m(\u001b[0m\u001b[0;34m\"Title\"\u001b[0m\u001b[0;34m,\u001b[0m\u001b[0;34m\"Date\"\u001b[0m\u001b[0;34m,\u001b[0m\u001b[0;34m\"Blogger\"\u001b[0m\u001b[0;34m,\u001b[0m\u001b[0;34m\"Blog URL\"\u001b[0m\u001b[0;34m,\u001b[0m\u001b[0;34m\"Post URL\"\u001b[0m\u001b[0;34m,\u001b[0m\u001b[0;34m\"Post\"\u001b[0m\u001b[0;34m)\u001b[0m\u001b[0;34m)\u001b[0m\u001b[0;34m\u001b[0m\u001b[0;34m\u001b[0m\u001b[0m\n\u001b[1;32m     10\u001b[0m \u001b[0;34m\u001b[0m\u001b[0m\n",
            "\u001b[0;31mNameError\u001b[0m: name 'url_query' is not defined"
          ]
        }
      ]
    },
    {
      "cell_type": "code",
      "metadata": {
        "id": "RcDayf6gFAP3"
      },
      "source": [
        ""
      ],
      "execution_count": null,
      "outputs": []
    }
  ]
}