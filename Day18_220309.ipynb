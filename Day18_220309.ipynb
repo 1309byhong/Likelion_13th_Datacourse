{
  "nbformat": 4,
  "nbformat_minor": 0,
  "metadata": {
    "colab": {
      "name": "Day18-220309.ipynb",
      "provenance": [],
      "authorship_tag": "ABX9TyNVkoLFdJxdOdJjm8YUW6qD",
      "include_colab_link": true
    },
    "kernelspec": {
      "name": "python3",
      "display_name": "Python 3"
    },
    "language_info": {
      "name": "python"
    }
  },
  "cells": [
    {
      "cell_type": "markdown",
      "metadata": {
        "id": "view-in-github",
        "colab_type": "text"
      },
      "source": [
        "<a href=\"https://colab.research.google.com/github/1309byhong/Likelion_13th_Datacourse/blob/main/Day18_220309.ipynb\" target=\"_parent\"><img src=\"https://colab.research.google.com/assets/colab-badge.svg\" alt=\"Open In Colab\"/></a>"
      ]
    },
    {
      "cell_type": "code",
      "execution_count": 2,
      "metadata": {
        "colab": {
          "base_uri": "https://localhost:8080/"
        },
        "id": "43lNahKELA_t",
        "outputId": "5568bddf-edb8-41d4-d4c4-f9585e6a7e5a"
      },
      "outputs": [
        {
          "output_type": "stream",
          "name": "stdout",
          "text": [
            "0\n",
            "철수:안녕 영희야 뭐해?\n",
            "영희:안녕 철수야, 그냥 있어.\n",
            "1\n",
            "철수:안녕 영희야 뭐해?\n",
            "영희:안녕 철수야, 그냥 있어.\n",
            "2\n",
            "철수:안녕 영희야 뭐해?\n",
            "영희:안녕 철수야, 그냥 있어.\n"
          ]
        }
      ],
      "source": [
        "#파이썬-반복문\n",
        "\n",
        "# for , while\n",
        "\n",
        "\n",
        "for i in range(3):\n",
        "  print(i)\n",
        "  print(\"철수:안녕 영희야 뭐해?\")\n",
        "  print(\"영희:안녕 철수야, 그냥 있어.\")"
      ]
    },
    {
      "cell_type": "code",
      "source": [
        "i = 0\n",
        "while i < 3 : \n",
        "  print(i) #0\n",
        "  print(\"철수:안녕 영희야 뭐해?\")\n",
        "  print(\"영희:안녕 철수야, 그냥 있어.\")\n",
        "  i = i + 1 #i = 2 + 1 = 3"
      ],
      "metadata": {
        "colab": {
          "base_uri": "https://localhost:8080/"
        },
        "id": "dEvjnjZPUt5E",
        "outputId": "26fb36aa-d689-49c6-9ccd-bdb3a7871147"
      },
      "execution_count": 1,
      "outputs": [
        {
          "output_type": "stream",
          "name": "stdout",
          "text": [
            "0\n",
            "철수:안녕 영희야 뭐해?\n",
            "영희:안녕 철수야, 그냥 있어.\n",
            "1\n",
            "철수:안녕 영희야 뭐해?\n",
            "영희:안녕 철수야, 그냥 있어.\n",
            "2\n",
            "철수:안녕 영희야 뭐해?\n",
            "영희:안녕 철수야, 그냥 있어.\n"
          ]
        }
      ]
    },
    {
      "cell_type": "code",
      "source": [
        "#for / while\n",
        "#break / continue\n",
        "\n",
        "i = 0\n",
        "while i < 3 : \n",
        "  print(i) #0\n",
        "  print(\"철수:안녕 영희야 뭐해?\")\n",
        "  print(\"영희:안녕 철수야, 그냥 있어.\")\n",
        "  i = i + 1 #i = 2 + 1 = 3\n",
        "\n",
        "  if i > 2 :\n",
        "    break"
      ],
      "metadata": {
        "colab": {
          "base_uri": "https://localhost:8080/"
        },
        "id": "v_yAtRj7pDSi",
        "outputId": "e403bb63-b5f6-416a-e554-24b2ccfd1de7"
      },
      "execution_count": 1,
      "outputs": [
        {
          "output_type": "stream",
          "name": "stdout",
          "text": [
            "0\n",
            "철수:안녕 영희야 뭐해?\n",
            "영희:안녕 철수야, 그냥 있어.\n",
            "1\n",
            "철수:안녕 영희야 뭐해?\n",
            "영희:안녕 철수야, 그냥 있어.\n",
            "2\n",
            "철수:안녕 영희야 뭐해?\n",
            "영희:안녕 철수야, 그냥 있어.\n"
          ]
        }
      ]
    },
    {
      "cell_type": "code",
      "source": [
        "#for / while\n",
        "#break / continue\n",
        "\n",
        "for i in range(3): \n",
        "  print(i) #0\n",
        "  print(\"철수:안녕 영희야 뭐해?\")\n",
        "  print(\"영희:안녕 철수야, 그냥 있어.\")\n",
        "  \n",
        "  if i == 1:\n",
        "    continue\n",
        "    print(\"워니:안녕 철수와 영희야\")"
      ],
      "metadata": {
        "colab": {
          "base_uri": "https://localhost:8080/"
        },
        "id": "dEYYdxzn3RHQ",
        "outputId": "9b49bd8d-28ad-4f95-da38-6800129f6e38"
      },
      "execution_count": 4,
      "outputs": [
        {
          "output_type": "stream",
          "name": "stdout",
          "text": [
            "0\n",
            "철수:안녕 영희야 뭐해?\n",
            "영희:안녕 철수야, 그냥 있어.\n",
            "1\n",
            "철수:안녕 영희야 뭐해?\n",
            "영희:안녕 철수야, 그냥 있어.\n",
            "2\n",
            "철수:안녕 영희야 뭐해?\n",
            "영희:안녕 철수야, 그냥 있어.\n"
          ]
        }
      ]
    },
    {
      "cell_type": "code",
      "source": [
        "##자료구조\n",
        "#(1) 리스트\n",
        "#(2) 튜플\n",
        "#(3) 딕셔너리"
      ],
      "metadata": {
        "id": "S4g18SvT3vbK"
      },
      "execution_count": 5,
      "outputs": []
    },
    {
      "cell_type": "code",
      "source": [
        "x = list()\n",
        "y = []\n",
        "\n",
        "print(x)\n",
        "print(y)"
      ],
      "metadata": {
        "colab": {
          "base_uri": "https://localhost:8080/"
        },
        "id": "NevWYQRz4h7r",
        "outputId": "9ec682ee-a1fa-49d2-987e-6b9af4862ced"
      },
      "execution_count": 6,
      "outputs": [
        {
          "output_type": "stream",
          "name": "stdout",
          "text": [
            "[]\n",
            "[]\n"
          ]
        }
      ]
    },
    {
      "cell_type": "code",
      "source": [
        "x = [1,2,3]\n",
        "y = [\"hello\",\"world\"]\n",
        "z = [\"hello\",1,2,3]\n",
        "\n",
        "print(x)\n",
        "print(y)\n",
        "print(z)\n",
        "print(x+y)"
      ],
      "metadata": {
        "colab": {
          "base_uri": "https://localhost:8080/"
        },
        "id": "VPXyqw-j4ojl",
        "outputId": "b13d13e1-3272-492e-9912-7b759ce9ce77"
      },
      "execution_count": 8,
      "outputs": [
        {
          "output_type": "stream",
          "name": "stdout",
          "text": [
            "[1, 2, 3]\n",
            "['hello', 'world']\n",
            "['hello', 1, 2, 3]\n",
            "[1, 2, 3, 'hello', 'world']\n"
          ]
        }
      ]
    },
    {
      "cell_type": "code",
      "source": [
        "x = [1,2,3,4]\n",
        "\n",
        "print(x[0])\n",
        "print(x[3])\n",
        "x[3] = 10\n",
        "print(x)"
      ],
      "metadata": {
        "colab": {
          "base_uri": "https://localhost:8080/"
        },
        "id": "9H3suHNW41I_",
        "outputId": "6743da9a-55fc-45d8-d33f-d0fc5f340d1b"
      },
      "execution_count": 12,
      "outputs": [
        {
          "output_type": "stream",
          "name": "stdout",
          "text": [
            "1\n",
            "4\n",
            "[1, 2, 3, 10]\n"
          ]
        }
      ]
    },
    {
      "cell_type": "code",
      "source": [
        "x = [1,2,3,4] \n",
        "\n",
        "num_elements = len(x)\n",
        "print(num_elements)"
      ],
      "metadata": {
        "colab": {
          "base_uri": "https://localhost:8080/"
        },
        "id": "Uwej_CcJ5DrF",
        "outputId": "ab319827-dbf1-406d-f423-f015543389fd"
      },
      "execution_count": 13,
      "outputs": [
        {
          "output_type": "stream",
          "name": "stdout",
          "text": [
            "4\n"
          ]
        }
      ]
    },
    {
      "cell_type": "code",
      "source": [
        "x = [4,2,3,1] \n",
        "\n",
        "sorted(x)\n",
        "print(x)"
      ],
      "metadata": {
        "colab": {
          "base_uri": "https://localhost:8080/"
        },
        "id": "KOY19ANJ5seS",
        "outputId": "755977ba-9d7f-4bb3-972a-8590118bb8e6"
      },
      "execution_count": 15,
      "outputs": [
        {
          "output_type": "stream",
          "name": "stdout",
          "text": [
            "[1, 2, 3, 4]\n"
          ]
        }
      ]
    },
    {
      "cell_type": "code",
      "source": [
        "x = [4,2,3,1] \n",
        "\n",
        "y = sorted(x)\n",
        "print(y)"
      ],
      "metadata": {
        "colab": {
          "base_uri": "https://localhost:8080/"
        },
        "id": "P-nm7CM-58ov",
        "outputId": "0079e145-2279-4908-a8ca-86443953b472"
      },
      "execution_count": 16,
      "outputs": [
        {
          "output_type": "stream",
          "name": "stdout",
          "text": [
            "[1, 2, 3, 4]\n"
          ]
        }
      ]
    },
    {
      "cell_type": "code",
      "source": [
        "x = [4,2,3,1] \n",
        "\n",
        "z = sum(x)\n",
        "print(z)"
      ],
      "metadata": {
        "colab": {
          "base_uri": "https://localhost:8080/"
        },
        "id": "D2EzrS086EQl",
        "outputId": "fd38c509-abe2-41db-c8b9-da8d54210b70"
      },
      "execution_count": 17,
      "outputs": [
        {
          "output_type": "stream",
          "name": "stdout",
          "text": [
            "10\n"
          ]
        }
      ]
    },
    {
      "cell_type": "code",
      "source": [
        "#중요\n",
        "x = [4,2,3,1] \n",
        "\n",
        "for n in x :\n",
        "  print(n)"
      ],
      "metadata": {
        "colab": {
          "base_uri": "https://localhost:8080/"
        },
        "id": "MBbaqvw96Mfo",
        "outputId": "07768151-b982-4a41-c34f-1536de146ff0"
      },
      "execution_count": 19,
      "outputs": [
        {
          "output_type": "stream",
          "name": "stdout",
          "text": [
            "4\n",
            "2\n",
            "3\n",
            "1\n"
          ]
        }
      ]
    },
    {
      "cell_type": "code",
      "source": [
        "x = [4,3,2,1]\n",
        "y = [\"hello\",\"there\"]\n",
        "\n",
        "for c in y:\n",
        "  print(c)"
      ],
      "metadata": {
        "colab": {
          "base_uri": "https://localhost:8080/"
        },
        "id": "rrEPXbXz6WmV",
        "outputId": "3c88827a-7fb8-4b32-cb31-ea53da571827"
      },
      "execution_count": 20,
      "outputs": [
        {
          "output_type": "stream",
          "name": "stdout",
          "text": [
            "hello\n",
            "there\n"
          ]
        }
      ]
    },
    {
      "cell_type": "code",
      "source": [
        "x = [4,2,3,1]\n",
        "y = [\"hello\",\"there\"]\n",
        "\n",
        "print(x.index(3))\n",
        "print(y.index(\"hello\"))\n",
        "#print(y.index(10)) #없는걸 물어보면 it is not in list\n",
        "print(\"hello\" in y) #hello가 y안에 있어?\n",
        "print(\"bye\" in y) \n",
        "\n",
        "if \"hello\" in y :\n",
        "  print(\"hello가 있어요.\")"
      ],
      "metadata": {
        "colab": {
          "base_uri": "https://localhost:8080/"
        },
        "id": "C1jYOr5T6sFi",
        "outputId": "d787b60d-4209-4a1e-c71c-1667ddcacd10"
      },
      "execution_count": 30,
      "outputs": [
        {
          "output_type": "stream",
          "name": "stdout",
          "text": [
            "2\n",
            "0\n",
            "True\n",
            "False\n",
            "hello가 있어요.\n"
          ]
        }
      ]
    },
    {
      "cell_type": "code",
      "source": [
        "##튜플 tuple\n",
        "\n",
        "x = tuple()\n",
        "y = ()\n",
        "\n",
        "print(x)\n",
        "print(y)"
      ],
      "metadata": {
        "colab": {
          "base_uri": "https://localhost:8080/"
        },
        "id": "iuRB-nSk622g",
        "outputId": "944c55f3-5056-4f7f-fc7e-cac6a3d6acab"
      },
      "execution_count": 32,
      "outputs": [
        {
          "output_type": "stream",
          "name": "stdout",
          "text": [
            "()\n",
            "()\n"
          ]
        }
      ]
    },
    {
      "cell_type": "code",
      "source": [
        "x = (1,2,3)\n",
        "y = ('a','b','c')\n",
        "z = (1, \"hello\",\"there\") \n",
        "\n",
        "x[0] = 10 # 튜플은 엘레멘트값을 못바꿈 \n",
        "# TypeError: 'tuple' object does not support item assignment\n",
        "# 가변하다, 불변하다 \n",
        "# mutable(가변) : list  | vs | immutable(불변) : tuple\n",
        "\n",
        "print(x+y)\n",
        "print('a' in y)\n",
        "print(z.index(1))"
      ],
      "metadata": {
        "colab": {
          "base_uri": "https://localhost:8080/",
          "height": 243
        },
        "id": "hihFb46X8LIG",
        "outputId": "75308711-d77c-4fa2-cff7-37aaaff68738"
      },
      "execution_count": 38,
      "outputs": [
        {
          "output_type": "error",
          "ename": "TypeError",
          "evalue": "ignored",
          "traceback": [
            "\u001b[0;31m---------------------------------------------------------------------------\u001b[0m",
            "\u001b[0;31mTypeError\u001b[0m                                 Traceback (most recent call last)",
            "\u001b[0;32m<ipython-input-38-fe3ee2a27c4c>\u001b[0m in \u001b[0;36m<module>\u001b[0;34m()\u001b[0m\n\u001b[1;32m      3\u001b[0m \u001b[0mz\u001b[0m \u001b[0;34m=\u001b[0m \u001b[0;34m(\u001b[0m\u001b[0;36m1\u001b[0m\u001b[0;34m,\u001b[0m \u001b[0;34m\"hello\"\u001b[0m\u001b[0;34m,\u001b[0m\u001b[0;34m\"there\"\u001b[0m\u001b[0;34m)\u001b[0m\u001b[0;34m\u001b[0m\u001b[0;34m\u001b[0m\u001b[0m\n\u001b[1;32m      4\u001b[0m \u001b[0;34m\u001b[0m\u001b[0m\n\u001b[0;32m----> 5\u001b[0;31m \u001b[0mx\u001b[0m\u001b[0;34m[\u001b[0m\u001b[0;36m0\u001b[0m\u001b[0;34m]\u001b[0m \u001b[0;34m=\u001b[0m \u001b[0;36m10\u001b[0m \u001b[0;31m# 튜플은 엘레멘트값을 못바꿈\u001b[0m\u001b[0;34m\u001b[0m\u001b[0;34m\u001b[0m\u001b[0m\n\u001b[0m\u001b[1;32m      6\u001b[0m \u001b[0;31m# TypeError: 'tuple' object does not support item assignment\u001b[0m\u001b[0;34m\u001b[0m\u001b[0;34m\u001b[0m\u001b[0;34m\u001b[0m\u001b[0m\n\u001b[1;32m      7\u001b[0m \u001b[0;31m# 가변하다, 불변하다\u001b[0m\u001b[0;34m\u001b[0m\u001b[0;34m\u001b[0m\u001b[0;34m\u001b[0m\u001b[0m\n",
            "\u001b[0;31mTypeError\u001b[0m: 'tuple' object does not support item assignment"
          ]
        }
      ]
    },
    {
      "cell_type": "code",
      "source": [
        "# 딕셔너리 key : value\n",
        "\n",
        "x = dict()\n",
        "y = {}\n",
        "\n",
        "print(x)\n",
        "print(y)"
      ],
      "metadata": {
        "colab": {
          "base_uri": "https://localhost:8080/"
        },
        "id": "FbYCEeMA8kVb",
        "outputId": "c7c53cc6-80db-41dd-cb2d-51625742b3ab"
      },
      "execution_count": 39,
      "outputs": [
        {
          "output_type": "stream",
          "name": "stdout",
          "text": [
            "{}\n",
            "{}\n"
          ]
        }
      ]
    },
    {
      "cell_type": "code",
      "source": [
        "x = {\n",
        "    \"name\" : \"잡스\",\n",
        "    \"age\" : 20,\n",
        "}\n",
        "\n",
        "print(x)\n",
        "print(x[\"name\"]) # x라는 딕셔너리에 name - key에 있는 value가 무엇인지.\n",
        "print(x[\"age\"]) # y라는 딕셔너리에 age - key에 있는value가 무엇인지."
      ],
      "metadata": {
        "colab": {
          "base_uri": "https://localhost:8080/"
        },
        "id": "r52j55y79gga",
        "outputId": "96bc4d2b-54f0-466a-fb73-e5eb0ece187d"
      },
      "execution_count": 43,
      "outputs": [
        {
          "output_type": "stream",
          "name": "stdout",
          "text": [
            "{'name': '잡스', 'age': 20}\n",
            "잡스\n",
            "20\n"
          ]
        }
      ]
    }
  ]
}