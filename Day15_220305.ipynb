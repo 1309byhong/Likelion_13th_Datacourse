{
  "nbformat": 4,
  "nbformat_minor": 0,
  "metadata": {
    "colab": {
      "name": "Day15_220305.ipynb",
      "provenance": [],
      "authorship_tag": "ABX9TyPS4zIRCWqISpvtDcW5wIWK",
      "include_colab_link": true
    },
    "kernelspec": {
      "name": "python3",
      "display_name": "Python 3"
    },
    "language_info": {
      "name": "python"
    }
  },
  "cells": [
    {
      "cell_type": "markdown",
      "metadata": {
        "id": "view-in-github",
        "colab_type": "text"
      },
      "source": [
        "<a href=\"https://colab.research.google.com/github/1309byhong/Likelion_13th_Datacourse/blob/main/Day15_220305.ipynb\" target=\"_parent\"><img src=\"https://colab.research.google.com/assets/colab-badge.svg\" alt=\"Open In Colab\"/></a>"
      ]
    },
    {
      "cell_type": "code",
      "execution_count": null,
      "metadata": {
        "id": "5mPb38H8Jy50"
      },
      "outputs": [],
      "source": [
        "fruit = [\"사과\",\"사과\",\"바나나\",\"바나나\",\"딸기\",\"키위\",\"복숭아\",\"복숭아\",\"복숭아\"]\n",
        "\n",
        "d = {}\n",
        "\n",
        "for f in fruit:\n",
        "  if f in d: #\"사과\"라는 key가 d 라는 딕셔너리에 들어있어?  \n",
        "    d[f] = d[f] + 1\n",
        "  else:\n",
        "    d[f] = 1 #만약 \"사과\"라는 애가 없으면, 그걸 딕셔너리에 넣고 밸류는 1로 만들어줘\n",
        "\n",
        "print(d)"
      ]
    },
    {
      "cell_type": "code",
      "source": [
        ""
      ],
      "metadata": {
        "id": "-KLUw5lSJ2nN"
      },
      "execution_count": null,
      "outputs": []
    }
  ]
}