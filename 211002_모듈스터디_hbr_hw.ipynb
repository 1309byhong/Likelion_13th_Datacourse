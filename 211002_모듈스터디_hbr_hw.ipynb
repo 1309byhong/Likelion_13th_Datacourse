{
  "nbformat": 4,
  "nbformat_minor": 0,
  "metadata": {
    "colab": {
      "name": "211002-모듈스터디-hbr-hw.ipynb",
      "provenance": [],
      "authorship_tag": "ABX9TyNbZHP6E94GaJPfLLpTFHMo",
      "include_colab_link": true
    },
    "kernelspec": {
      "name": "python3",
      "display_name": "Python 3"
    },
    "language_info": {
      "name": "python"
    }
  },
  "cells": [
    {
      "cell_type": "markdown",
      "metadata": {
        "id": "view-in-github",
        "colab_type": "text"
      },
      "source": [
        "<a href=\"https://colab.research.google.com/github/1309byhong/Likelion_13th_Datacourse/blob/main/211002_%EB%AA%A8%EB%93%88%EC%8A%A4%ED%84%B0%EB%94%94_hbr_hw.ipynb\" target=\"_parent\"><img src=\"https://colab.research.google.com/assets/colab-badge.svg\" alt=\"Open In Colab\"/></a>"
      ]
    },
    {
      "cell_type": "code",
      "metadata": {
        "colab": {
          "base_uri": "https://localhost:8080/"
        },
        "id": "_4Q2N3MSSzxG",
        "outputId": "ee4e7f55-267d-4e39-c0c8-2a2da2248568"
      },
      "source": [
        "%%writefile Module.py\n",
        "def func1():\n",
        "  print(\"Module.py:func1()\")\n",
        "\n",
        "def func2():\n",
        "  print(\"Module.py:func2()\")\n",
        "\n",
        "def func3():\n",
        "  print(\"Module.py:func3()\")  "
      ],
      "execution_count": null,
      "outputs": [
        {
          "output_type": "stream",
          "name": "stdout",
          "text": [
            "Overwriting Module.py\n"
          ]
        }
      ]
    },
    {
      "cell_type": "code",
      "metadata": {
        "colab": {
          "base_uri": "https://localhost:8080/"
        },
        "id": "-GLY9J6ST26V",
        "outputId": "d16cfb2c-59a2-4ff7-99fd-a90b686caf17"
      },
      "source": [
        "!ls"
      ],
      "execution_count": null,
      "outputs": [
        {
          "output_type": "stream",
          "name": "stdout",
          "text": [
            "Module.py  Moidule.py  sample_data\n"
          ]
        }
      ]
    },
    {
      "cell_type": "code",
      "metadata": {
        "id": "r-jfhZq9T5ym"
      },
      "source": [
        "%load Module.py"
      ],
      "execution_count": null,
      "outputs": []
    },
    {
      "cell_type": "code",
      "metadata": {
        "colab": {
          "base_uri": "https://localhost:8080/"
        },
        "id": "vOwzGowdT-pu",
        "outputId": "d17154d3-051f-479f-8835-30b268a92540"
      },
      "source": [
        "%run Moudule.py"
      ],
      "execution_count": null,
      "outputs": [
        {
          "output_type": "stream",
          "name": "stderr",
          "text": [
            "ERROR:root:File `'Moudule.py'` not found.\n"
          ]
        }
      ]
    },
    {
      "cell_type": "code",
      "metadata": {
        "colab": {
          "base_uri": "https://localhost:8080/"
        },
        "id": "TlmuHOS2UG5C",
        "outputId": "306b464f-2ef8-4052-a234-aefb66228aec"
      },
      "source": [
        "import Module\n",
        "Module.func1()\n",
        "Module.func2()\n",
        "Module.func3()"
      ],
      "execution_count": null,
      "outputs": [
        {
          "output_type": "stream",
          "name": "stdout",
          "text": [
            "Module.py:fuc1()\n",
            "Module.py:fuc2()\n",
            "Module.py:fuc3()\n"
          ]
        }
      ]
    },
    {
      "cell_type": "code",
      "metadata": {
        "colab": {
          "base_uri": "https://localhost:8080/"
        },
        "id": "FSztr89mU99r",
        "outputId": "5273a42d-e9a3-4a29-a028-702b3e92dcf9"
      },
      "source": [
        "from Module import *\n",
        "func1()\n",
        "func2()\n",
        "func3()"
      ],
      "execution_count": null,
      "outputs": [
        {
          "output_type": "stream",
          "name": "stdout",
          "text": [
            "Module.py:fuc1()\n",
            "Module.py:fuc2()\n",
            "Module.py:fuc3()\n"
          ]
        }
      ]
    },
    {
      "cell_type": "code",
      "metadata": {
        "id": "J6_FCpWaW4Fn"
      },
      "source": [
        ""
      ],
      "execution_count": null,
      "outputs": []
    },
    {
      "cell_type": "markdown",
      "metadata": {
        "id": "MP99ArazXKqr"
      },
      "source": [
        "[Lab]계산기 모듈 만들기"
      ]
    },
    {
      "cell_type": "code",
      "metadata": {
        "colab": {
          "base_uri": "https://localhost:8080/"
        },
        "id": "G9ariEzLXPqr",
        "outputId": "c3033bc6-e6a6-4b23-9a5c-9f0b5482d680"
      },
      "source": [
        "%%writefile Calculator.py\n",
        "def add(a, b):\n",
        "  return a + b\n",
        "\n",
        "def sub(a, b):\n",
        "  return a- b\n",
        "\n",
        "def mul(a, b):\n",
        "  return a * b\n",
        "\n",
        "def div(a, b):\n",
        "  return a / b\n",
        "\n",
        "def mod(a, b):\n",
        "  return a % b\n",
        "\n"
      ],
      "execution_count": null,
      "outputs": [
        {
          "output_type": "stream",
          "name": "stdout",
          "text": [
            "Writing Calculator.py\n"
          ]
        }
      ]
    },
    {
      "cell_type": "code",
      "metadata": {
        "colab": {
          "base_uri": "https://localhost:8080/"
        },
        "id": "UNtAcg4nXz07",
        "outputId": "64ca006b-d6d0-40dc-b61a-87a5e323c25d"
      },
      "source": [
        "from Calculator import *\n",
        "\n",
        "print(add(3,5))\n",
        "print(sub(3,5))\n",
        "print(mul(3,5))\n",
        "print(div(3,5))\n",
        "print(mod(3,5))"
      ],
      "execution_count": null,
      "outputs": [
        {
          "output_type": "stream",
          "name": "stdout",
          "text": [
            "8\n",
            "-2\n",
            "15\n",
            "0.6\n",
            "3\n"
          ]
        }
      ]
    },
    {
      "cell_type": "code",
      "metadata": {
        "id": "OoXaT62eYLiy"
      },
      "source": [
        ""
      ],
      "execution_count": null,
      "outputs": []
    },
    {
      "cell_type": "markdown",
      "metadata": {
        "id": "sZgAUVLSYNMJ"
      },
      "source": [
        "파이썬 표준 모듈"
      ]
    },
    {
      "cell_type": "code",
      "metadata": {
        "colab": {
          "base_uri": "https://localhost:8080/"
        },
        "id": "oFCQbUxrYP3J",
        "outputId": "102b7d0b-7648-470a-de35-5a25f7e70f18"
      },
      "source": [
        "import sys\n",
        "print(sys.builtin_module_names)"
      ],
      "execution_count": null,
      "outputs": [
        {
          "output_type": "stream",
          "name": "stdout",
          "text": [
            "('_abc', '_ast', '_bisect', '_blake2', '_codecs', '_collections', '_datetime', '_elementtree', '_functools', '_heapq', '_imp', '_io', '_locale', '_md5', '_operator', '_pickle', '_posixsubprocess', '_random', '_sha1', '_sha256', '_sha3', '_sha512', '_signal', '_socket', '_sre', '_stat', '_string', '_struct', '_symtable', '_thread', '_tracemalloc', '_warnings', '_weakref', 'array', 'atexit', 'binascii', 'builtins', 'errno', 'faulthandler', 'fcntl', 'gc', 'grp', 'itertools', 'marshal', 'math', 'posix', 'pwd', 'pyexpat', 'select', 'spwd', 'sys', 'syslog', 'time', 'unicodedata', 'xxsubtype', 'zipimport', 'zlib')\n"
          ]
        }
      ]
    },
    {
      "cell_type": "code",
      "metadata": {
        "colab": {
          "base_uri": "https://localhost:8080/"
        },
        "id": "TVbo7JuSYZPB",
        "outputId": "bb7564f8-59cf-4bfc-ecb5-90d0179e9d70"
      },
      "source": [
        "print(dir(__builtins__))"
      ],
      "execution_count": null,
      "outputs": [
        {
          "output_type": "stream",
          "name": "stdout",
          "text": [
            "['ArithmeticError', 'AssertionError', 'AttributeError', 'BaseException', 'BlockingIOError', 'BrokenPipeError', 'BufferError', 'BytesWarning', 'ChildProcessError', 'ConnectionAbortedError', 'ConnectionError', 'ConnectionRefusedError', 'ConnectionResetError', 'DeprecationWarning', 'EOFError', 'Ellipsis', 'EnvironmentError', 'Exception', 'False', 'FileExistsError', 'FileNotFoundError', 'FloatingPointError', 'FutureWarning', 'GeneratorExit', 'IOError', 'ImportError', 'ImportWarning', 'IndentationError', 'IndexError', 'InterruptedError', 'IsADirectoryError', 'KeyError', 'KeyboardInterrupt', 'LookupError', 'MemoryError', 'ModuleNotFoundError', 'NameError', 'None', 'NotADirectoryError', 'NotImplemented', 'NotImplementedError', 'OSError', 'OverflowError', 'PendingDeprecationWarning', 'PermissionError', 'ProcessLookupError', 'RecursionError', 'ReferenceError', 'ResourceWarning', 'RuntimeError', 'RuntimeWarning', 'StopAsyncIteration', 'StopIteration', 'SyntaxError', 'SyntaxWarning', 'SystemError', 'SystemExit', 'TabError', 'TimeoutError', 'True', 'TypeError', 'UnboundLocalError', 'UnicodeDecodeError', 'UnicodeEncodeError', 'UnicodeError', 'UnicodeTranslateError', 'UnicodeWarning', 'UserWarning', 'ValueError', 'Warning', 'ZeroDivisionError', '__IPYTHON__', '__build_class__', '__debug__', '__doc__', '__import__', '__loader__', '__name__', '__package__', '__spec__', 'abs', 'all', 'any', 'ascii', 'bin', 'bool', 'breakpoint', 'bytearray', 'bytes', 'callable', 'chr', 'classmethod', 'compile', 'complex', 'copyright', 'credits', 'delattr', 'dict', 'dir', 'display', 'divmod', 'dreload', 'enumerate', 'eval', 'exec', 'execfile', 'filter', 'float', 'format', 'frozenset', 'get_ipython', 'getattr', 'globals', 'hasattr', 'hash', 'help', 'hex', 'id', 'input', 'int', 'isinstance', 'issubclass', 'iter', 'len', 'license', 'list', 'locals', 'map', 'max', 'memoryview', 'min', 'next', 'object', 'oct', 'open', 'ord', 'pow', 'print', 'property', 'range', 'repr', 'reversed', 'round', 'runfile', 'set', 'setattr', 'slice', 'sorted', 'staticmethod', 'str', 'sum', 'super', 'tuple', 'type', 'vars', 'zip']\n"
          ]
        }
      ]
    },
    {
      "cell_type": "code",
      "metadata": {
        "id": "zDwAnXRBYiS-"
      },
      "source": [
        ""
      ],
      "execution_count": null,
      "outputs": []
    },
    {
      "cell_type": "markdown",
      "metadata": {
        "id": "HIeU5_gMYw7s"
      },
      "source": [
        "시간모듈(datetime)"
      ]
    },
    {
      "cell_type": "code",
      "metadata": {
        "colab": {
          "base_uri": "https://localhost:8080/"
        },
        "id": "b6aL6PXmYzyi",
        "outputId": "fb06a6a0-b290-4e30-b485-ea575770788f"
      },
      "source": [
        "import time\n",
        "print(dir(time))"
      ],
      "execution_count": null,
      "outputs": [
        {
          "output_type": "stream",
          "name": "stdout",
          "text": [
            "['CLOCK_BOOTTIME', 'CLOCK_MONOTONIC', 'CLOCK_MONOTONIC_RAW', 'CLOCK_PROCESS_CPUTIME_ID', 'CLOCK_REALTIME', 'CLOCK_THREAD_CPUTIME_ID', '_STRUCT_TM_ITEMS', '__doc__', '__loader__', '__name__', '__package__', '__spec__', 'altzone', 'asctime', 'clock', 'clock_getres', 'clock_gettime', 'clock_gettime_ns', 'clock_settime', 'clock_settime_ns', 'ctime', 'daylight', 'get_clock_info', 'gmtime', 'localtime', 'mktime', 'monotonic', 'monotonic_ns', 'perf_counter', 'perf_counter_ns', 'process_time', 'process_time_ns', 'pthread_getcpuclockid', 'sleep', 'strftime', 'strptime', 'struct_time', 'thread_time', 'thread_time_ns', 'time', 'time_ns', 'timezone', 'tzname', 'tzset']\n"
          ]
        }
      ]
    },
    {
      "cell_type": "code",
      "metadata": {
        "id": "l1uhrsUiY3el"
      },
      "source": [
        ""
      ],
      "execution_count": null,
      "outputs": []
    },
    {
      "cell_type": "markdown",
      "metadata": {
        "id": "h_yjgDX3Y-oe"
      },
      "source": [
        "\n",
        "*   시간 모듈 *time* 예제\n",
        "\n"
      ]
    },
    {
      "cell_type": "code",
      "metadata": {
        "colab": {
          "base_uri": "https://localhost:8080/"
        },
        "id": "1GSS0O5gZKcb",
        "outputId": "b0d0a568-e225-47fb-8f97-71c8db9aaf43"
      },
      "source": [
        "import time\n",
        "print(time)\n",
        "print(time.time())\n",
        "print(time.time())\n",
        "print(time.time())\n"
      ],
      "execution_count": null,
      "outputs": [
        {
          "output_type": "stream",
          "name": "stdout",
          "text": [
            "<module 'time' (built-in)>\n",
            "1633263381.1207135\n",
            "1633263381.1212997\n",
            "1633263381.121611\n"
          ]
        }
      ]
    },
    {
      "cell_type": "code",
      "metadata": {
        "colab": {
          "base_uri": "https://localhost:8080/"
        },
        "id": "EWXnfjFZZaa_",
        "outputId": "0401a5ed-92f2-4f08-8290-ff4a85814b9e"
      },
      "source": [
        "now = time.gmtime(time.time())\n",
        "print(now)\n",
        "\n",
        "year = str(now.tm_year)\n",
        "month = str(now.tm_mon)\n",
        "day = str(now.tm_mday)\n",
        "\n",
        "print(year, \"년\", month,\"월\",day,\"일\")"
      ],
      "execution_count": null,
      "outputs": [
        {
          "output_type": "stream",
          "name": "stdout",
          "text": [
            "time.struct_time(tm_year=2021, tm_mon=10, tm_mday=3, tm_hour=12, tm_min=16, tm_sec=29, tm_wday=6, tm_yday=276, tm_isdst=0)\n",
            "2021 년 10 월 3 일\n"
          ]
        }
      ]
    },
    {
      "cell_type": "code",
      "metadata": {
        "colab": {
          "base_uri": "https://localhost:8080/"
        },
        "id": "hC_ug2s4Zh78",
        "outputId": "a0bad576-616f-4977-89c8-257735b1a250"
      },
      "source": [
        "print(year,\"년\", month,\"월\",day,\"일\")\n"
      ],
      "execution_count": null,
      "outputs": [
        {
          "output_type": "stream",
          "name": "stdout",
          "text": [
            "2021 년 10 월 3 일\n"
          ]
        }
      ]
    },
    {
      "cell_type": "code",
      "metadata": {
        "colab": {
          "base_uri": "https://localhost:8080/"
        },
        "id": "NTSb4rwdagDV",
        "outputId": "e610ba2a-8153-4a67-b273-908782a9f43f"
      },
      "source": [
        "hour = str(now.tm_hour)\n",
        "minute = str(now.tm_min)\n",
        "sec = str(now.tm_sec)\n",
        "\n",
        "print(hour,\"시\",minute,\"분\",sec,\"초\")"
      ],
      "execution_count": null,
      "outputs": [
        {
          "output_type": "stream",
          "name": "stdout",
          "text": [
            "12 시 16 분 29 초\n"
          ]
        }
      ]
    },
    {
      "cell_type": "markdown",
      "metadata": {
        "id": "NmJmkgpRF08F"
      },
      "source": [
        "\n",
        "\n",
        "*   날짜시간 모듈 datetime의 date 클래스 예제\n",
        "\n"
      ]
    },
    {
      "cell_type": "code",
      "metadata": {
        "colab": {
          "base_uri": "https://localhost:8080/"
        },
        "id": "PA6gsDeUFPg3",
        "outputId": "ec925982-b7bb-4a19-c7d9-6c20233138f8"
      },
      "source": [
        "from datetime import date\n",
        "print(date)\n",
        "print(date(2000,1,1))\n",
        "print(date(year = 2010, month = 1, day = 1))\n",
        "print(date.today())\n",
        "\n",
        "today = date.today()\n",
        "year = str(today.year)\n",
        "month = str(today.month)\n",
        "day = str(today.day)\n",
        "weekday = \"월화수목금토일\"[today.weekday()]\n",
        "\n",
        "print(year+\"년\",month+\"월\",day+\"일\",weekday+\"요일\")\n"
      ],
      "execution_count": null,
      "outputs": [
        {
          "output_type": "stream",
          "name": "stdout",
          "text": [
            "<class 'datetime.date'>\n",
            "2000-01-01\n",
            "2010-01-01\n",
            "2021-10-03\n",
            "2021년 10월 3일 일요일\n"
          ]
        }
      ]
    },
    {
      "cell_type": "markdown",
      "metadata": {
        "id": "jGKzDmR3MJdM"
      },
      "source": [
        "\n",
        "\n",
        "*   날짜시가 모듈 datetime의 time클래스 예제\n",
        "\n"
      ]
    },
    {
      "cell_type": "code",
      "metadata": {
        "colab": {
          "base_uri": "https://localhost:8080/"
        },
        "id": "fKIRL5DjFx_K",
        "outputId": "a99d989d-4376-4bd1-c872-2a60aaf9f9cc"
      },
      "source": [
        "from datetime import time\n",
        "print(time)\n",
        "print(time(12,0))\n",
        "print(time(14,30))\n",
        "print(time(16, 30, 45))\n",
        "print(time(18, 00, 15, 20000))\n",
        "\n",
        "now = time(20, 40, 15, 200000)\n",
        "hour = str(now.hour)\n",
        "minute = str(now.minute)\n",
        "sec = str(now.second)\n",
        "msec = str(now.microsecond)\n",
        "\n",
        "print(hour+\"시\", minute+\"분\", sec+\"초\",msec+\"마이크로초\")\n"
      ],
      "execution_count": null,
      "outputs": [
        {
          "output_type": "stream",
          "name": "stdout",
          "text": [
            "<class 'datetime.time'>\n",
            "12:00:00\n",
            "14:30:00\n",
            "16:30:45\n",
            "18:00:15.020000\n",
            "20시 40분 15초 200000마이크로초\n"
          ]
        }
      ]
    },
    {
      "cell_type": "markdown",
      "metadata": {
        "id": "vk1Mgc8DHata"
      },
      "source": [
        "\n",
        "\n",
        "*   날짜시간 모듈 datetime의 time클래스 예제\n",
        "*   날짜시간을 문자열로 표현하기 위한 strftime() 메소드 예제\n",
        "\n",
        "\n"
      ]
    },
    {
      "cell_type": "code",
      "metadata": {
        "id": "mUUmGUIOF_bF"
      },
      "source": [
        ""
      ],
      "execution_count": null,
      "outputs": []
    }
  ]
}