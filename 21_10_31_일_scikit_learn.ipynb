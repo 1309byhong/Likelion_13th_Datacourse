{
  "nbformat": 4,
  "nbformat_minor": 0,
  "metadata": {
    "colab": {
      "name": "21_10_31_일 scikit-learn.ipynb",
      "provenance": [],
      "collapsed_sections": [],
      "authorship_tag": "ABX9TyOAzQnQXpzBLZnqOy6zsVvQ",
      "include_colab_link": true
    },
    "kernelspec": {
      "name": "python3",
      "display_name": "Python 3"
    },
    "language_info": {
      "name": "python"
    }
  },
  "cells": [
    {
      "cell_type": "markdown",
      "metadata": {
        "id": "view-in-github",
        "colab_type": "text"
      },
      "source": [
        "<a href=\"https://colab.research.google.com/github/1309byhong/Likelion_13th_Datacourse/blob/main/21_10_31_%EC%9D%BC_scikit_learn.ipynb\" target=\"_parent\"><img src=\"https://colab.research.google.com/assets/colab-badge.svg\" alt=\"Open In Colab\"/></a>"
      ]
    },
    {
      "cell_type": "code",
      "metadata": {
        "id": "1lftqqXrb5UG"
      },
      "source": [
        "### API 사용 예제"
      ],
      "execution_count": null,
      "outputs": []
    },
    {
      "cell_type": "code",
      "metadata": {
        "id": "qhp-aHKqlvkJ"
      },
      "source": [
        "import numpy as np\n",
        "import matplotlib.pyplot as plt\n",
        "plt.style.use(['seaborn-whitegrid'])"
      ],
      "execution_count": null,
      "outputs": []
    },
    {
      "cell_type": "code",
      "metadata": {
        "colab": {
          "base_uri": "https://localhost:8080/",
          "height": 262
        },
        "id": "8gWYroybl1Yl",
        "outputId": "a956e61c-2c25-4a9d-e88b-41059921c3eb"
      },
      "source": [
        "x = 10 * np.random.rand(50)\n",
        "y = 2 * x + np.random.rand(50)\n",
        "plt.scatter(x,y);"
      ],
      "execution_count": null,
      "outputs": [
        {
          "output_type": "display_data",
          "data": {
            "image/png": "[encoded data removed]",
            "text/plain": [
              "<Figure size 432x288 with 1 Axes>"
            ]
          },
          "metadata": {}
        }
      ]
    },
    {
      "cell_type": "code",
      "metadata": {
        "id": "AvdeG7t3mGfV"
      },
      "source": [
        "##1. scikit-learn으로 부터 적절한 estimator 클래스를 임포트해서 모델의 클래스 선택 \n",
        "from sklearn.linear_model import LinearRegression"
      ],
      "execution_count": null,
      "outputs": []
    },
    {
      "cell_type": "code",
      "metadata": {
        "colab": {
          "base_uri": "https://localhost:8080/"
        },
        "id": "Qq767TZxnRkh",
        "outputId": "e5e3e7a3-155e-4e55-da3b-71c4eb3414e2"
      },
      "source": [
        "##2. 클래스를 원하는 값으로 인스턴스화해서 모델의 하이퍼파라미터 선택\n",
        "model = LinearRegression(fit_intercept=True)\n",
        "model"
      ],
      "execution_count": null,
      "outputs": [
        {
          "output_type": "execute_result",
          "data": {
            "text/plain": [
              "LinearRegression(copy_X=True, fit_intercept=True, n_jobs=None, normalize=False)"
            ]
          },
          "metadata": {},
          "execution_count": 5
        }
      ]
    },
    {
      "cell_type": "code",
      "metadata": {
        "colab": {
          "base_uri": "https://localhost:8080/"
        },
        "id": "zGx9CC_dn2vf",
        "outputId": "3015be12-deff-42f4-b585-1f25b22c08dd"
      },
      "source": [
        "##3.데이터를 특징 배열과 대상 벡터로 배치\n",
        "X = x[:,np.newaxis]\n",
        "X"
      ],
      "execution_count": null,
      "outputs": [
        {
          "output_type": "execute_result",
          "data": {
            "text/plain": [
              "array([[8.26627224],\n",
              "       [1.43337679],\n",
              "       [8.40072998],\n",
              "       [6.53063517],\n",
              "       [1.13420288],\n",
              "       [9.22077307],\n",
              "       [7.67903776],\n",
              "       [6.08546148],\n",
              "       [9.30319199],\n",
              "       [8.23600397],\n",
              "       [0.15791741],\n",
              "       [7.46489015],\n",
              "       [8.96009763],\n",
              "       [9.07820112],\n",
              "       [5.75853909],\n",
              "       [5.03764377],\n",
              "       [6.57761819],\n",
              "       [2.64058877],\n",
              "       [2.58607893],\n",
              "       [9.86446249],\n",
              "       [8.9245736 ],\n",
              "       [9.34608536],\n",
              "       [4.86138747],\n",
              "       [4.47508109],\n",
              "       [0.19036501],\n",
              "       [4.96296115],\n",
              "       [8.5118237 ],\n",
              "       [7.17966745],\n",
              "       [2.73751688],\n",
              "       [1.65190706],\n",
              "       [3.75682282],\n",
              "       [4.9950334 ],\n",
              "       [8.71428477],\n",
              "       [3.32454059],\n",
              "       [2.96794343],\n",
              "       [0.74058041],\n",
              "       [6.65622128],\n",
              "       [2.21178822],\n",
              "       [8.41111715],\n",
              "       [0.65524287],\n",
              "       [4.57630874],\n",
              "       [4.60796208],\n",
              "       [2.76295626],\n",
              "       [8.01480862],\n",
              "       [5.94230427],\n",
              "       [0.49691097],\n",
              "       [4.05732667],\n",
              "       [7.58430787],\n",
              "       [1.53782067],\n",
              "       [1.93441279]])"
            ]
          },
          "metadata": {},
          "execution_count": 6
        }
      ]
    },
    {
      "cell_type": "code",
      "metadata": {
        "colab": {
          "base_uri": "https://localhost:8080/"
        },
        "id": "RePc06KHoSsO",
        "outputId": "b662b08e-1f78-4046-80a4-150876eedf10"
      },
      "source": [
        "x"
      ],
      "execution_count": null,
      "outputs": [
        {
          "output_type": "execute_result",
          "data": {
            "text/plain": [
              "array([8.26627224, 1.43337679, 8.40072998, 6.53063517, 1.13420288,\n",
              "       9.22077307, 7.67903776, 6.08546148, 9.30319199, 8.23600397,\n",
              "       0.15791741, 7.46489015, 8.96009763, 9.07820112, 5.75853909,\n",
              "       5.03764377, 6.57761819, 2.64058877, 2.58607893, 9.86446249,\n",
              "       8.9245736 , 9.34608536, 4.86138747, 4.47508109, 0.19036501,\n",
              "       4.96296115, 8.5118237 , 7.17966745, 2.73751688, 1.65190706,\n",
              "       3.75682282, 4.9950334 , 8.71428477, 3.32454059, 2.96794343,\n",
              "       0.74058041, 6.65622128, 2.21178822, 8.41111715, 0.65524287,\n",
              "       4.57630874, 4.60796208, 2.76295626, 8.01480862, 5.94230427,\n",
              "       0.49691097, 4.05732667, 7.58430787, 1.53782067, 1.93441279])"
            ]
          },
          "metadata": {},
          "execution_count": 7
        }
      ]
    },
    {
      "cell_type": "code",
      "metadata": {
        "colab": {
          "base_uri": "https://localhost:8080/"
        },
        "id": "lN1Hp0Czoeww",
        "outputId": "fb3f5a2c-d0e8-4e84-cf57-d60d0de195b7"
      },
      "source": [
        "##4. 모델 인스턴스의 fit()메세드를 호출해 모델을 데이터에 적합\n",
        "model.fit(X,y)"
      ],
      "execution_count": null,
      "outputs": [
        {
          "output_type": "execute_result",
          "data": {
            "text/plain": [
              "LinearRegression(copy_X=True, fit_intercept=True, n_jobs=None, normalize=False)"
            ]
          },
          "metadata": {},
          "execution_count": 8
        }
      ]
    },
    {
      "cell_type": "code",
      "metadata": {
        "colab": {
          "base_uri": "https://localhost:8080/"
        },
        "id": "ohSVQHq5otf_",
        "outputId": "20eebd44-86fa-419a-8ce2-0acefc898938"
      },
      "source": [
        "model.coef_"
      ],
      "execution_count": null,
      "outputs": [
        {
          "output_type": "execute_result",
          "data": {
            "text/plain": [
              "array([1.99851795])"
            ]
          },
          "metadata": {},
          "execution_count": 9
        }
      ]
    },
    {
      "cell_type": "code",
      "metadata": {
        "colab": {
          "base_uri": "https://localhost:8080/"
        },
        "id": "ecY1h3drow1k",
        "outputId": "5484b0f4-525f-4285-b8f5-30710e4a5959"
      },
      "source": [
        "model.intercept_"
      ],
      "execution_count": null,
      "outputs": [
        {
          "output_type": "execute_result",
          "data": {
            "text/plain": [
              "0.5752905948381954"
            ]
          },
          "metadata": {},
          "execution_count": 10
        }
      ]
    },
    {
      "cell_type": "code",
      "metadata": {
        "id": "IO9z7r_PozOJ"
      },
      "source": [
        "##5.모델을 새 데이터에 적용\n",
        "xfit = np.linspace(-1,11)\n",
        "Xfit = xfit[:,np.newaxis]\n",
        "yfit = model.predict(Xfit)"
      ],
      "execution_count": null,
      "outputs": []
    },
    {
      "cell_type": "code",
      "metadata": {
        "colab": {
          "base_uri": "https://localhost:8080/",
          "height": 280
        },
        "id": "9Rl5XCw8pTEc",
        "outputId": "dbf23097-470c-4a1c-9165-752440172e2f"
      },
      "source": [
        "plt.scatter(x,y)\n",
        "plt.plot(xfit,yfit,'--r')"
      ],
      "execution_count": null,
      "outputs": [
        {
          "output_type": "execute_result",
          "data": {
            "text/plain": [
              "[<matplotlib.lines.Line2D at 0x7fdd5af4af10>]"
            ]
          },
          "metadata": {},
          "execution_count": 12
        },
        {
          "output_type": "display_data",
          "data": {
            "image/png": "[encoded data removed]",
            "text/plain": [
              "<Figure size 432x288 with 1 Axes>"
            ]
          },
          "metadata": {}
        }
      ]
    },
    {
      "cell_type": "code",
      "metadata": {
        "id": "od4OJ-cgpgAh"
      },
      "source": [
        "##예제 데이터 세트 구조"
      ],
      "execution_count": null,
      "outputs": []
    },
    {
      "cell_type": "code",
      "metadata": {
        "colab": {
          "base_uri": "https://localhost:8080/"
        },
        "id": "p-8JEMtnqPlQ",
        "outputId": "f9d44472-0578-41e8-94e7-28ea88e9c946"
      },
      "source": [
        "from sklearn.datasets import load_diabetes\n",
        "\n",
        "diabetes = load_diabetes()\n",
        "print(diabetes.keys())"
      ],
      "execution_count": null,
      "outputs": [
        {
          "output_type": "stream",
          "name": "stdout",
          "text": [
            "dict_keys(['data', 'target', 'DESCR', 'feature_names', 'data_filename', 'target_filename'])\n"
          ]
        }
      ]
    },
    {
      "cell_type": "code",
      "metadata": {
        "colab": {
          "base_uri": "https://localhost:8080/"
        },
        "id": "eeAHca3lqRpe",
        "outputId": "49efae98-12f9-4fce-b705-3c572f2a0a57"
      },
      "source": [
        "print(diabetes.data)"
      ],
      "execution_count": null,
      "outputs": [
        {
          "output_type": "stream",
          "name": "stdout",
          "text": [
            "[[ 0.03807591  0.05068012  0.06169621 ... -0.00259226  0.01990842\n",
            "  -0.01764613]\n",
            " [-0.00188202 -0.04464164 -0.05147406 ... -0.03949338 -0.06832974\n",
            "  -0.09220405]\n",
            " [ 0.08529891  0.05068012  0.04445121 ... -0.00259226  0.00286377\n",
            "  -0.02593034]\n",
            " ...\n",
            " [ 0.04170844  0.05068012 -0.01590626 ... -0.01107952 -0.04687948\n",
            "   0.01549073]\n",
            " [-0.04547248 -0.04464164  0.03906215 ...  0.02655962  0.04452837\n",
            "  -0.02593034]\n",
            " [-0.04547248 -0.04464164 -0.0730303  ... -0.03949338 -0.00421986\n",
            "   0.00306441]]\n"
          ]
        }
      ]
    },
    {
      "cell_type": "code",
      "metadata": {
        "colab": {
          "base_uri": "https://localhost:8080/"
        },
        "id": "A_fFY8Wtqxze",
        "outputId": "a320ff65-6be9-47d6-9ca5-780be4f82fb7"
      },
      "source": [
        "print(diabetes.target)"
      ],
      "execution_count": null,
      "outputs": [
        {
          "output_type": "stream",
          "name": "stdout",
          "text": [
            "[151.  75. 141. 206. 135.  97. 138.  63. 110. 310. 101.  69. 179. 185.\n",
            " 118. 171. 166. 144.  97. 168.  68.  49.  68. 245. 184. 202. 137.  85.\n",
            " 131. 283. 129.  59. 341.  87.  65. 102. 265. 276. 252.  90. 100.  55.\n",
            "  61.  92. 259.  53. 190. 142.  75. 142. 155. 225.  59. 104. 182. 128.\n",
            "  52.  37. 170. 170.  61. 144.  52. 128.  71. 163. 150.  97. 160. 178.\n",
            "  48. 270. 202. 111.  85.  42. 170. 200. 252. 113. 143.  51.  52. 210.\n",
            "  65. 141.  55. 134.  42. 111.  98. 164.  48.  96.  90. 162. 150. 279.\n",
            "  92.  83. 128. 102. 302. 198.  95.  53. 134. 144. 232.  81. 104.  59.\n",
            " 246. 297. 258. 229. 275. 281. 179. 200. 200. 173. 180.  84. 121. 161.\n",
            "  99. 109. 115. 268. 274. 158. 107.  83. 103. 272.  85. 280. 336. 281.\n",
            " 118. 317. 235.  60. 174. 259. 178. 128.  96. 126. 288.  88. 292.  71.\n",
            " 197. 186.  25.  84.  96. 195.  53. 217. 172. 131. 214.  59.  70. 220.\n",
            " 268. 152.  47.  74. 295. 101. 151. 127. 237. 225.  81. 151. 107.  64.\n",
            " 138. 185. 265. 101. 137. 143. 141.  79. 292. 178.  91. 116.  86. 122.\n",
            "  72. 129. 142.  90. 158.  39. 196. 222. 277.  99. 196. 202. 155.  77.\n",
            " 191.  70.  73.  49.  65. 263. 248. 296. 214. 185.  78.  93. 252. 150.\n",
            "  77. 208.  77. 108. 160.  53. 220. 154. 259.  90. 246. 124.  67.  72.\n",
            " 257. 262. 275. 177.  71.  47. 187. 125.  78.  51. 258. 215. 303. 243.\n",
            "  91. 150. 310. 153. 346.  63.  89.  50.  39. 103. 308. 116. 145.  74.\n",
            "  45. 115. 264.  87. 202. 127. 182. 241.  66.  94. 283.  64. 102. 200.\n",
            " 265.  94. 230. 181. 156. 233.  60. 219.  80.  68. 332. 248.  84. 200.\n",
            "  55.  85.  89.  31. 129.  83. 275.  65. 198. 236. 253. 124.  44. 172.\n",
            " 114. 142. 109. 180. 144. 163. 147.  97. 220. 190. 109. 191. 122. 230.\n",
            " 242. 248. 249. 192. 131. 237.  78. 135. 244. 199. 270. 164.  72.  96.\n",
            " 306.  91. 214.  95. 216. 263. 178. 113. 200. 139. 139.  88. 148.  88.\n",
            " 243.  71.  77. 109. 272.  60.  54. 221.  90. 311. 281. 182. 321.  58.\n",
            " 262. 206. 233. 242. 123. 167.  63. 197.  71. 168. 140. 217. 121. 235.\n",
            " 245.  40.  52. 104. 132.  88.  69. 219.  72. 201. 110.  51. 277.  63.\n",
            " 118.  69. 273. 258.  43. 198. 242. 232. 175.  93. 168. 275. 293. 281.\n",
            "  72. 140. 189. 181. 209. 136. 261. 113. 131. 174. 257.  55.  84.  42.\n",
            " 146. 212. 233.  91. 111. 152. 120.  67. 310.  94. 183.  66. 173.  72.\n",
            "  49.  64.  48. 178. 104. 132. 220.  57.]\n"
          ]
        }
      ]
    },
    {
      "cell_type": "code",
      "metadata": {
        "colab": {
          "base_uri": "https://localhost:8080/"
        },
        "id": "DHDnBeg6rGqv",
        "outputId": "e514fafa-fee9-4fcd-b9b6-90dc59fe510c"
      },
      "source": [
        "print(diabetes.DESCR)"
      ],
      "execution_count": null,
      "outputs": [
        {
          "output_type": "stream",
          "name": "stdout",
          "text": [
            ".. _diabetes_dataset:\n",
            "\n",
            "Diabetes dataset\n",
            "----------------\n",
            "\n",
            "Ten baseline variables, age, sex, body mass index, average blood\n",
            "pressure, and six blood serum measurements were obtained for each of n =\n",
            "442 diabetes patients, as well as the response of interest, a\n",
            "quantitative measure of disease progression one year after baseline.\n",
            "\n",
            "**Data Set Characteristics:**\n",
            "\n",
            "  :Number of Instances: 442\n",
            "\n",
            "  :Number of Attributes: First 10 columns are numeric predictive values\n",
            "\n",
            "  :Target: Column 11 is a quantitative measure of disease progression one year after baseline\n",
            "\n",
            "  :Attribute Information:\n",
            "      - Age\n",
            "      - Sex\n",
            "      - Body mass index\n",
            "      - Average blood pressure\n",
            "      - S1\n",
            "      - S2\n",
            "      - S3\n",
            "      - S4\n",
            "      - S5\n",
            "      - S6\n",
            "\n",
            "Note: Each of these 10 feature variables have been mean centered and scaled by the standard deviation times `n_samples` (i.e. the sum of squares of each column totals 1).\n",
            "\n",
            "Source URL:\n",
            "https://www4.stat.ncsu.edu/~boos/var.select/diabetes.html\n",
            "\n",
            "For more information see:\n",
            "Bradley Efron, Trevor Hastie, Iain Johnstone and Robert Tibshirani (2004) \"Least Angle Regression,\" Annals of Statistics (with discussion), 407-499.\n",
            "(https://web.stanford.edu/~hastie/Papers/LARS/LeastAngle_2002.pdf)\n"
          ]
        }
      ]
    },
    {
      "cell_type": "code",
      "metadata": {
        "colab": {
          "base_uri": "https://localhost:8080/"
        },
        "id": "sRXsWokBrO8-",
        "outputId": "a2cc1ecd-e140-4893-cd9e-96b15c242ed5"
      },
      "source": [
        "print(diabetes.feature_names)"
      ],
      "execution_count": null,
      "outputs": [
        {
          "output_type": "stream",
          "name": "stdout",
          "text": [
            "['age', 'sex', 'bmi', 'bp', 's1', 's2', 's3', 's4', 's5', 's6']\n"
          ]
        }
      ]
    },
    {
      "cell_type": "code",
      "metadata": {
        "colab": {
          "base_uri": "https://localhost:8080/"
        },
        "id": "iDV6MZ_JrdGf",
        "outputId": "c1387f6c-1485-440c-8d97-5dae8937a633"
      },
      "source": [
        "print(diabetes.data_filename)\n",
        "print(diabetes.target_filename)"
      ],
      "execution_count": null,
      "outputs": [
        {
          "output_type": "stream",
          "name": "stdout",
          "text": [
            "/usr/local/lib/python3.7/dist-packages/sklearn/datasets/data/diabetes_data.csv.gz\n",
            "/usr/local/lib/python3.7/dist-packages/sklearn/datasets/data/diabetes_target.csv.gz\n"
          ]
        }
      ]
    },
    {
      "cell_type": "code",
      "metadata": {
        "id": "rJu4KHUErmRF"
      },
      "source": [
        "##model_selection"
      ],
      "execution_count": null,
      "outputs": []
    },
    {
      "cell_type": "code",
      "metadata": {
        "id": "-7-EcSSdrsQ-"
      },
      "source": [
        "##train_test_split():힉습/테스트 데이터 세트 분리"
      ],
      "execution_count": null,
      "outputs": []
    },
    {
      "cell_type": "code",
      "metadata": {
        "colab": {
          "base_uri": "https://localhost:8080/"
        },
        "id": "LpS5Za_2r0S8",
        "outputId": "74b88fb2-3b31-4cf3-f28d-bb2c7dff0446"
      },
      "source": [
        "from sklearn.linear_model import LinearRegression\n",
        "from sklearn.model_selection import train_test_split\n",
        "from sklearn.datasets import load_diabetes\n",
        "\n",
        "diabetes = load_diabetes()\n",
        "X_train, X_test, y_train, y_test = train_test_split(diabetes.data, diabetes.target, test_size=0.3)\n",
        "\n",
        "model = LinearRegression()\n",
        "model.fit(X_train, y_train)\n",
        "\n",
        "print(\"학습 데이터 점수 :{}\".format(model.score(X_train,y_train)))\n",
        "print(\"평가 데이터 점수 :{}\".format(model.score(X_test,y_test)))"
      ],
      "execution_count": null,
      "outputs": [
        {
          "output_type": "stream",
          "name": "stdout",
          "text": [
            "학습 데이터 점수 :0.49527626906111183\n",
            "평가 데이터 점수 :0.5412750733131335\n"
          ]
        }
      ]
    },
    {
      "cell_type": "code",
      "metadata": {
        "colab": {
          "base_uri": "https://localhost:8080/",
          "height": 297
        },
        "id": "lkBkX_HatuO4",
        "outputId": "b0e6c890-5cc8-4edf-abc7-bfb022d56e1a"
      },
      "source": [
        "import matplotlib.pyplot as plt\n",
        "\n",
        "predicted = model.predict(X_test)\n",
        "expected = y_test\n",
        "plt.figure(figsize=(8,4))\n",
        "plt.scatter(expected,predicted)\n",
        "plt.plot([30,350],[30,350],'--r')\n",
        "plt.tight_layout()"
      ],
      "execution_count": null,
      "outputs": [
        {
          "output_type": "display_data",
          "data": {
            "image/png": "[encoded data removed]",
            "text/plain": [
              "<Figure size 576x288 with 1 Axes>"
            ]
          },
          "metadata": {}
        }
      ]
    },
    {
      "cell_type": "code",
      "metadata": {
        "id": "r36ZlCwb8NR9"
      },
      "source": [
        "##cross_val_score():교차검증"
      ],
      "execution_count": null,
      "outputs": []
    },
    {
      "cell_type": "code",
      "metadata": {
        "colab": {
          "base_uri": "https://localhost:8080/"
        },
        "id": "u-pTxs_UmxHt",
        "outputId": "f5dfdac5-8a9d-4331-abee-6054b8e6542d"
      },
      "source": [
        "from sklearn.model_selection import cross_val_score,cross_validate\n",
        "\n",
        "scores = cross_val_score(model,diabetes.data, diabetes.target, cv=5)\n",
        "print(\"교차 검증 정확도 :{}\".format(scores))\n",
        "print(\"교차 검증 정확도 :{}+/-{}\".format(np.mean(scores),np.std(scores)))"
      ],
      "execution_count": null,
      "outputs": [
        {
          "output_type": "stream",
          "name": "stdout",
          "text": [
            "교차 검증 정확도 :[0.42955643 0.52259828 0.4826784  0.42650827 0.55024923]\n",
            "교차 검증 정확도 :0.48231812211149394+/-0.049266197765632194\n"
          ]
        }
      ]
    },
    {
      "cell_type": "code",
      "metadata": {
        "id": "GtC27On7nRro"
      },
      "source": [
        "##GridSearchCV :교차 검증과 최적 하이퍼 파라미터 찾기"
      ],
      "execution_count": null,
      "outputs": []
    },
    {
      "cell_type": "code",
      "metadata": {
        "colab": {
          "base_uri": "https://localhost:8080/",
          "height": 477
        },
        "id": "ZlMe3sDBogtI",
        "outputId": "4f240b06-b15b-4b0a-833f-7f01cebf47ae"
      },
      "source": [
        "from sklearn.model_selection import GridSearchCV\n",
        "from sklearn.linear_model import Ridge\n",
        "import pandas as pd\n",
        "\n",
        "alpha = [0.001, 0.01, 0.1, 1, 10, 100, 1000]\n",
        "param_grid = dict(alpha=alpha)\n",
        "\n",
        "gs = GridSearchCV(estimator=Ridge(),param_grid = param_grid, cv=10)\n",
        "result = gs.fit(diabetes.data, diabetes.target)\n",
        "\n",
        "print(\"최적 점수 :{}\".format(result.best_score_))\n",
        "print(\"최적 파라미터:{}\".format(result.best_params_))\n",
        "print(gs.best_estimator_)\n",
        "pd.DataFrame(result.cv_results_)"
      ],
      "execution_count": null,
      "outputs": [
        {
          "output_type": "stream",
          "name": "stdout",
          "text": [
            "최적 점수 :0.4633240541517593\n",
            "최적 파라미터:{'alpha': 0.1}\n",
            "Ridge(alpha=0.1, copy_X=True, fit_intercept=True, max_iter=None,\n",
            "      normalize=False, random_state=None, solver='auto', tol=0.001)\n"
          ]
        },
        {
          "output_type": "execute_result",
          "data": {
            "text/html": [
              "<div>\n",
              "<style scoped>\n",
              "    .dataframe tbody tr th:only-of-type {\n",
              "        vertical-align: middle;\n",
              "    }\n",
              "\n",
              "    .dataframe tbody tr th {\n",
              "        vertical-align: top;\n",
              "    }\n",
              "\n",
              "    .dataframe thead th {\n",
              "        text-align: right;\n",
              "    }\n",
              "</style>\n",
              "<table border=\"1\" class=\"dataframe\">\n",
              "  <thead>\n",
              "    <tr style=\"text-align: right;\">\n",
              "      <th></th>\n",
              "      <th>mean_fit_time</th>\n",
              "      <th>std_fit_time</th>\n",
              "      <th>mean_score_time</th>\n",
              "      <th>std_score_time</th>\n",
              "      <th>param_alpha</th>\n",
              "      <th>params</th>\n",
              "      <th>split0_test_score</th>\n",
              "      <th>split1_test_score</th>\n",
              "      <th>split2_test_score</th>\n",
              "      <th>split3_test_score</th>\n",
              "      <th>split4_test_score</th>\n",
              "      <th>split5_test_score</th>\n",
              "      <th>split6_test_score</th>\n",
              "      <th>split7_test_score</th>\n",
              "      <th>split8_test_score</th>\n",
              "      <th>split9_test_score</th>\n",
              "      <th>mean_test_score</th>\n",
              "      <th>std_test_score</th>\n",
              "      <th>rank_test_score</th>\n",
              "    </tr>\n",
              "  </thead>\n",
              "  <tbody>\n",
              "    <tr>\n",
              "      <th>0</th>\n",
              "      <td>0.002302</td>\n",
              "      <td>0.002714</td>\n",
              "      <td>0.000754</td>\n",
              "      <td>0.000152</td>\n",
              "      <td>0.001</td>\n",
              "      <td>{'alpha': 0.001}</td>\n",
              "      <td>0.554415</td>\n",
              "      <td>0.233686</td>\n",
              "      <td>0.356799</td>\n",
              "      <td>0.620259</td>\n",
              "      <td>0.267033</td>\n",
              "      <td>0.619397</td>\n",
              "      <td>0.419907</td>\n",
              "      <td>0.433019</td>\n",
              "      <td>0.433431</td>\n",
              "      <td>0.684984</td>\n",
              "      <td>0.462293</td>\n",
              "      <td>0.145848</td>\n",
              "      <td>3</td>\n",
              "    </tr>\n",
              "    <tr>\n",
              "      <th>1</th>\n",
              "      <td>0.000801</td>\n",
              "      <td>0.000045</td>\n",
              "      <td>0.000777</td>\n",
              "      <td>0.000106</td>\n",
              "      <td>0.01</td>\n",
              "      <td>{'alpha': 0.01}</td>\n",
              "      <td>0.546297</td>\n",
              "      <td>0.244132</td>\n",
              "      <td>0.368901</td>\n",
              "      <td>0.613732</td>\n",
              "      <td>0.271717</td>\n",
              "      <td>0.623089</td>\n",
              "      <td>0.426074</td>\n",
              "      <td>0.424759</td>\n",
              "      <td>0.429484</td>\n",
              "      <td>0.680912</td>\n",
              "      <td>0.462910</td>\n",
              "      <td>0.141446</td>\n",
              "      <td>2</td>\n",
              "    </tr>\n",
              "    <tr>\n",
              "      <th>2</th>\n",
              "      <td>0.000770</td>\n",
              "      <td>0.000023</td>\n",
              "      <td>0.000748</td>\n",
              "      <td>0.000042</td>\n",
              "      <td>0.1</td>\n",
              "      <td>{'alpha': 0.1}</td>\n",
              "      <td>0.526550</td>\n",
              "      <td>0.244987</td>\n",
              "      <td>0.383530</td>\n",
              "      <td>0.606594</td>\n",
              "      <td>0.286094</td>\n",
              "      <td>0.618033</td>\n",
              "      <td>0.431230</td>\n",
              "      <td>0.441788</td>\n",
              "      <td>0.431968</td>\n",
              "      <td>0.662466</td>\n",
              "      <td>0.463324</td>\n",
              "      <td>0.132681</td>\n",
              "      <td>1</td>\n",
              "    </tr>\n",
              "    <tr>\n",
              "      <th>3</th>\n",
              "      <td>0.000802</td>\n",
              "      <td>0.000051</td>\n",
              "      <td>0.000769</td>\n",
              "      <td>0.000102</td>\n",
              "      <td>1</td>\n",
              "      <td>{'alpha': 1}</td>\n",
              "      <td>0.421593</td>\n",
              "      <td>0.168442</td>\n",
              "      <td>0.358004</td>\n",
              "      <td>0.512608</td>\n",
              "      <td>0.284928</td>\n",
              "      <td>0.514264</td>\n",
              "      <td>0.388246</td>\n",
              "      <td>0.484448</td>\n",
              "      <td>0.396502</td>\n",
              "      <td>0.525132</td>\n",
              "      <td>0.405417</td>\n",
              "      <td>0.108385</td>\n",
              "      <td>4</td>\n",
              "    </tr>\n",
              "    <tr>\n",
              "      <th>4</th>\n",
              "      <td>0.000767</td>\n",
              "      <td>0.000011</td>\n",
              "      <td>0.000716</td>\n",
              "      <td>0.000007</td>\n",
              "      <td>10</td>\n",
              "      <td>{'alpha': 10}</td>\n",
              "      <td>0.159386</td>\n",
              "      <td>-0.081177</td>\n",
              "      <td>0.152190</td>\n",
              "      <td>0.165690</td>\n",
              "      <td>0.119349</td>\n",
              "      <td>0.186933</td>\n",
              "      <td>0.158147</td>\n",
              "      <td>0.203748</td>\n",
              "      <td>0.153627</td>\n",
              "      <td>0.189440</td>\n",
              "      <td>0.140733</td>\n",
              "      <td>0.077298</td>\n",
              "      <td>5</td>\n",
              "    </tr>\n",
              "    <tr>\n",
              "      <th>5</th>\n",
              "      <td>0.000755</td>\n",
              "      <td>0.000013</td>\n",
              "      <td>0.000722</td>\n",
              "      <td>0.000011</td>\n",
              "      <td>100</td>\n",
              "      <td>{'alpha': 100}</td>\n",
              "      <td>0.012468</td>\n",
              "      <td>-0.234480</td>\n",
              "      <td>0.013522</td>\n",
              "      <td>-0.012820</td>\n",
              "      <td>0.004838</td>\n",
              "      <td>0.022647</td>\n",
              "      <td>0.022028</td>\n",
              "      <td>-0.009908</td>\n",
              "      <td>0.015589</td>\n",
              "      <td>0.026427</td>\n",
              "      <td>-0.013969</td>\n",
              "      <td>0.074561</td>\n",
              "      <td>6</td>\n",
              "    </tr>\n",
              "    <tr>\n",
              "      <th>6</th>\n",
              "      <td>0.000761</td>\n",
              "      <td>0.000022</td>\n",
              "      <td>0.000727</td>\n",
              "      <td>0.000019</td>\n",
              "      <td>1000</td>\n",
              "      <td>{'alpha': 1000}</td>\n",
              "      <td>-0.009602</td>\n",
              "      <td>-0.258118</td>\n",
              "      <td>-0.007849</td>\n",
              "      <td>-0.038479</td>\n",
              "      <td>-0.012933</td>\n",
              "      <td>-0.000932</td>\n",
              "      <td>0.001768</td>\n",
              "      <td>-0.042679</td>\n",
              "      <td>-0.004652</td>\n",
              "      <td>0.002744</td>\n",
              "      <td>-0.037073</td>\n",
              "      <td>0.075191</td>\n",
              "      <td>7</td>\n",
              "    </tr>\n",
              "  </tbody>\n",
              "</table>\n",
              "</div>"
            ],
            "text/plain": [
              "   mean_fit_time  std_fit_time  ...  std_test_score  rank_test_score\n",
              "0       0.002302      0.002714  ...        0.145848                3\n",
              "1       0.000801      0.000045  ...        0.141446                2\n",
              "2       0.000770      0.000023  ...        0.132681                1\n",
              "3       0.000802      0.000051  ...        0.108385                4\n",
              "4       0.000767      0.000011  ...        0.077298                5\n",
              "5       0.000755      0.000013  ...        0.074561                6\n",
              "6       0.000761      0.000022  ...        0.075191                7\n",
              "\n",
              "[7 rows x 19 columns]"
            ]
          },
          "metadata": {},
          "execution_count": 31
        }
      ]
    },
    {
      "cell_type": "code",
      "metadata": {
        "id": "ut-__sxdp9Cb"
      },
      "source": [
        "## multiprocessing 을 이용한 GridSearchCV"
      ],
      "execution_count": null,
      "outputs": []
    },
    {
      "cell_type": "code",
      "metadata": {
        "colab": {
          "base_uri": "https://localhost:8080/",
          "height": 1000
        },
        "id": "cKPuPpQXqm3J",
        "outputId": "9dc30681-4e63-419d-ebc7-830cd7c1489d"
      },
      "source": [
        "import multiprocessing\n",
        "from sklearn.datasets import load_iris\n",
        "from sklearn.linear_model import LogisticRegression\n",
        "\n",
        "iris = load_iris()\n",
        "\n",
        "param_grid = [ { 'penalty' : ['l1','l2'],\n",
        "                  'C' :[0.5,1.0,1.5,1.8,2.0,2.4] }]\n",
        "\n",
        "gs = GridSearchCV(estimator=LogisticRegression(),param_grid=param_grid,\n",
        "                  scoring='accuracy',cv=10,n_jobs=multiprocessing.cpu_count())\n",
        "\n",
        "result = gs.fit(iris.data, iris.target)\n",
        "\n",
        "print(\"최적 점수: {}\".format(result.best_score_))\n",
        "print(\"최적 파라미터 : {}\".format(result.best_params_))\n",
        "print(gs.best_estimator_)\n",
        "pd.DataFrame(result.cv_results_)"
      ],
      "execution_count": null,
      "outputs": [
        {
          "output_type": "stream",
          "name": "stdout",
          "text": [
            "최적 점수: 0.9800000000000001\n",
            "최적 파라미터 : {'C': 2.4, 'penalty': 'l2'}\n",
            "LogisticRegression(C=2.4, class_weight=None, dual=False, fit_intercept=True,\n",
            "                   intercept_scaling=1, l1_ratio=None, max_iter=100,\n",
            "                   multi_class='auto', n_jobs=None, penalty='l2',\n",
            "                   random_state=None, solver='lbfgs', tol=0.0001, verbose=0,\n",
            "                   warm_start=False)\n"
          ]
        },
        {
          "output_type": "stream",
          "name": "stderr",
          "text": [
            "/usr/local/lib/python3.7/dist-packages/sklearn/linear_model/_logistic.py:940: ConvergenceWarning: lbfgs failed to converge (status=1):\n",
            "STOP: TOTAL NO. of ITERATIONS REACHED LIMIT.\n",
            "\n",
            "Increase the number of iterations (max_iter) or scale the data as shown in:\n",
            "    https://scikit-learn.org/stable/modules/preprocessing.html\n",
            "Please also refer to the documentation for alternative solver options:\n",
            "    https://scikit-learn.org/stable/modules/linear_model.html#logistic-regression\n",
            "  extra_warning_msg=_LOGISTIC_SOLVER_CONVERGENCE_MSG)\n"
          ]
        },
        {
          "output_type": "execute_result",
          "data": {
            "text/html": [
              "<div>\n",
              "<style scoped>\n",
              "    .dataframe tbody tr th:only-of-type {\n",
              "        vertical-align: middle;\n",
              "    }\n",
              "\n",
              "    .dataframe tbody tr th {\n",
              "        vertical-align: top;\n",
              "    }\n",
              "\n",
              "    .dataframe thead th {\n",
              "        text-align: right;\n",
              "    }\n",
              "</style>\n",
              "<table border=\"1\" class=\"dataframe\">\n",
              "  <thead>\n",
              "    <tr style=\"text-align: right;\">\n",
              "      <th></th>\n",
              "      <th>mean_fit_time</th>\n",
              "      <th>std_fit_time</th>\n",
              "      <th>mean_score_time</th>\n",
              "      <th>std_score_time</th>\n",
              "      <th>param_C</th>\n",
              "      <th>param_penalty</th>\n",
              "      <th>params</th>\n",
              "      <th>split0_test_score</th>\n",
              "      <th>split1_test_score</th>\n",
              "      <th>split2_test_score</th>\n",
              "      <th>split3_test_score</th>\n",
              "      <th>split4_test_score</th>\n",
              "      <th>split5_test_score</th>\n",
              "      <th>split6_test_score</th>\n",
              "      <th>split7_test_score</th>\n",
              "      <th>split8_test_score</th>\n",
              "      <th>split9_test_score</th>\n",
              "      <th>mean_test_score</th>\n",
              "      <th>std_test_score</th>\n",
              "      <th>rank_test_score</th>\n",
              "    </tr>\n",
              "  </thead>\n",
              "  <tbody>\n",
              "    <tr>\n",
              "      <th>0</th>\n",
              "      <td>0.000086</td>\n",
              "      <td>0.000029</td>\n",
              "      <td>0.000000</td>\n",
              "      <td>0.000000</td>\n",
              "      <td>0.5</td>\n",
              "      <td>l1</td>\n",
              "      <td>{'C': 0.5, 'penalty': 'l1'}</td>\n",
              "      <td>NaN</td>\n",
              "      <td>NaN</td>\n",
              "      <td>NaN</td>\n",
              "      <td>NaN</td>\n",
              "      <td>NaN</td>\n",
              "      <td>NaN</td>\n",
              "      <td>NaN</td>\n",
              "      <td>NaN</td>\n",
              "      <td>NaN</td>\n",
              "      <td>NaN</td>\n",
              "      <td>NaN</td>\n",
              "      <td>NaN</td>\n",
              "      <td>7</td>\n",
              "    </tr>\n",
              "    <tr>\n",
              "      <th>1</th>\n",
              "      <td>0.045714</td>\n",
              "      <td>0.004465</td>\n",
              "      <td>0.000522</td>\n",
              "      <td>0.000014</td>\n",
              "      <td>0.5</td>\n",
              "      <td>l2</td>\n",
              "      <td>{'C': 0.5, 'penalty': 'l2'}</td>\n",
              "      <td>1.0</td>\n",
              "      <td>0.933333</td>\n",
              "      <td>1.0</td>\n",
              "      <td>0.933333</td>\n",
              "      <td>0.933333</td>\n",
              "      <td>0.933333</td>\n",
              "      <td>0.933333</td>\n",
              "      <td>1.0</td>\n",
              "      <td>1.0</td>\n",
              "      <td>1.0</td>\n",
              "      <td>0.966667</td>\n",
              "      <td>0.033333</td>\n",
              "      <td>6</td>\n",
              "    </tr>\n",
              "    <tr>\n",
              "      <th>2</th>\n",
              "      <td>0.000074</td>\n",
              "      <td>0.000013</td>\n",
              "      <td>0.000000</td>\n",
              "      <td>0.000000</td>\n",
              "      <td>1</td>\n",
              "      <td>l1</td>\n",
              "      <td>{'C': 1.0, 'penalty': 'l1'}</td>\n",
              "      <td>NaN</td>\n",
              "      <td>NaN</td>\n",
              "      <td>NaN</td>\n",
              "      <td>NaN</td>\n",
              "      <td>NaN</td>\n",
              "      <td>NaN</td>\n",
              "      <td>NaN</td>\n",
              "      <td>NaN</td>\n",
              "      <td>NaN</td>\n",
              "      <td>NaN</td>\n",
              "      <td>NaN</td>\n",
              "      <td>NaN</td>\n",
              "      <td>8</td>\n",
              "    </tr>\n",
              "    <tr>\n",
              "      <th>3</th>\n",
              "      <td>0.048996</td>\n",
              "      <td>0.003624</td>\n",
              "      <td>0.000998</td>\n",
              "      <td>0.001418</td>\n",
              "      <td>1</td>\n",
              "      <td>l2</td>\n",
              "      <td>{'C': 1.0, 'penalty': 'l2'}</td>\n",
              "      <td>1.0</td>\n",
              "      <td>0.933333</td>\n",
              "      <td>1.0</td>\n",
              "      <td>1.000000</td>\n",
              "      <td>0.933333</td>\n",
              "      <td>0.933333</td>\n",
              "      <td>0.933333</td>\n",
              "      <td>1.0</td>\n",
              "      <td>1.0</td>\n",
              "      <td>1.0</td>\n",
              "      <td>0.973333</td>\n",
              "      <td>0.032660</td>\n",
              "      <td>2</td>\n",
              "    </tr>\n",
              "    <tr>\n",
              "      <th>4</th>\n",
              "      <td>0.000071</td>\n",
              "      <td>0.000014</td>\n",
              "      <td>0.000000</td>\n",
              "      <td>0.000000</td>\n",
              "      <td>1.5</td>\n",
              "      <td>l1</td>\n",
              "      <td>{'C': 1.5, 'penalty': 'l1'}</td>\n",
              "      <td>NaN</td>\n",
              "      <td>NaN</td>\n",
              "      <td>NaN</td>\n",
              "      <td>NaN</td>\n",
              "      <td>NaN</td>\n",
              "      <td>NaN</td>\n",
              "      <td>NaN</td>\n",
              "      <td>NaN</td>\n",
              "      <td>NaN</td>\n",
              "      <td>NaN</td>\n",
              "      <td>NaN</td>\n",
              "      <td>NaN</td>\n",
              "      <td>9</td>\n",
              "    </tr>\n",
              "    <tr>\n",
              "      <th>5</th>\n",
              "      <td>0.053259</td>\n",
              "      <td>0.006033</td>\n",
              "      <td>0.000741</td>\n",
              "      <td>0.000669</td>\n",
              "      <td>1.5</td>\n",
              "      <td>l2</td>\n",
              "      <td>{'C': 1.5, 'penalty': 'l2'}</td>\n",
              "      <td>1.0</td>\n",
              "      <td>0.933333</td>\n",
              "      <td>1.0</td>\n",
              "      <td>1.000000</td>\n",
              "      <td>0.933333</td>\n",
              "      <td>0.933333</td>\n",
              "      <td>0.933333</td>\n",
              "      <td>1.0</td>\n",
              "      <td>1.0</td>\n",
              "      <td>1.0</td>\n",
              "      <td>0.973333</td>\n",
              "      <td>0.032660</td>\n",
              "      <td>2</td>\n",
              "    </tr>\n",
              "    <tr>\n",
              "      <th>6</th>\n",
              "      <td>0.000061</td>\n",
              "      <td>0.000011</td>\n",
              "      <td>0.000000</td>\n",
              "      <td>0.000000</td>\n",
              "      <td>1.8</td>\n",
              "      <td>l1</td>\n",
              "      <td>{'C': 1.8, 'penalty': 'l1'}</td>\n",
              "      <td>NaN</td>\n",
              "      <td>NaN</td>\n",
              "      <td>NaN</td>\n",
              "      <td>NaN</td>\n",
              "      <td>NaN</td>\n",
              "      <td>NaN</td>\n",
              "      <td>NaN</td>\n",
              "      <td>NaN</td>\n",
              "      <td>NaN</td>\n",
              "      <td>NaN</td>\n",
              "      <td>NaN</td>\n",
              "      <td>NaN</td>\n",
              "      <td>10</td>\n",
              "    </tr>\n",
              "    <tr>\n",
              "      <th>7</th>\n",
              "      <td>0.050863</td>\n",
              "      <td>0.002357</td>\n",
              "      <td>0.000538</td>\n",
              "      <td>0.000006</td>\n",
              "      <td>1.8</td>\n",
              "      <td>l2</td>\n",
              "      <td>{'C': 1.8, 'penalty': 'l2'}</td>\n",
              "      <td>1.0</td>\n",
              "      <td>0.933333</td>\n",
              "      <td>1.0</td>\n",
              "      <td>1.000000</td>\n",
              "      <td>0.933333</td>\n",
              "      <td>0.933333</td>\n",
              "      <td>0.933333</td>\n",
              "      <td>1.0</td>\n",
              "      <td>1.0</td>\n",
              "      <td>1.0</td>\n",
              "      <td>0.973333</td>\n",
              "      <td>0.032660</td>\n",
              "      <td>2</td>\n",
              "    </tr>\n",
              "    <tr>\n",
              "      <th>8</th>\n",
              "      <td>0.000065</td>\n",
              "      <td>0.000012</td>\n",
              "      <td>0.000000</td>\n",
              "      <td>0.000000</td>\n",
              "      <td>2</td>\n",
              "      <td>l1</td>\n",
              "      <td>{'C': 2.0, 'penalty': 'l1'}</td>\n",
              "      <td>NaN</td>\n",
              "      <td>NaN</td>\n",
              "      <td>NaN</td>\n",
              "      <td>NaN</td>\n",
              "      <td>NaN</td>\n",
              "      <td>NaN</td>\n",
              "      <td>NaN</td>\n",
              "      <td>NaN</td>\n",
              "      <td>NaN</td>\n",
              "      <td>NaN</td>\n",
              "      <td>NaN</td>\n",
              "      <td>NaN</td>\n",
              "      <td>11</td>\n",
              "    </tr>\n",
              "    <tr>\n",
              "      <th>9</th>\n",
              "      <td>0.056084</td>\n",
              "      <td>0.011107</td>\n",
              "      <td>0.000534</td>\n",
              "      <td>0.000022</td>\n",
              "      <td>2</td>\n",
              "      <td>l2</td>\n",
              "      <td>{'C': 2.0, 'penalty': 'l2'}</td>\n",
              "      <td>1.0</td>\n",
              "      <td>0.933333</td>\n",
              "      <td>1.0</td>\n",
              "      <td>1.000000</td>\n",
              "      <td>0.933333</td>\n",
              "      <td>0.933333</td>\n",
              "      <td>0.933333</td>\n",
              "      <td>1.0</td>\n",
              "      <td>1.0</td>\n",
              "      <td>1.0</td>\n",
              "      <td>0.973333</td>\n",
              "      <td>0.032660</td>\n",
              "      <td>2</td>\n",
              "    </tr>\n",
              "    <tr>\n",
              "      <th>10</th>\n",
              "      <td>0.000068</td>\n",
              "      <td>0.000008</td>\n",
              "      <td>0.000000</td>\n",
              "      <td>0.000000</td>\n",
              "      <td>2.4</td>\n",
              "      <td>l1</td>\n",
              "      <td>{'C': 2.4, 'penalty': 'l1'}</td>\n",
              "      <td>NaN</td>\n",
              "      <td>NaN</td>\n",
              "      <td>NaN</td>\n",
              "      <td>NaN</td>\n",
              "      <td>NaN</td>\n",
              "      <td>NaN</td>\n",
              "      <td>NaN</td>\n",
              "      <td>NaN</td>\n",
              "      <td>NaN</td>\n",
              "      <td>NaN</td>\n",
              "      <td>NaN</td>\n",
              "      <td>NaN</td>\n",
              "      <td>12</td>\n",
              "    </tr>\n",
              "    <tr>\n",
              "      <th>11</th>\n",
              "      <td>0.044371</td>\n",
              "      <td>0.010405</td>\n",
              "      <td>0.000489</td>\n",
              "      <td>0.000070</td>\n",
              "      <td>2.4</td>\n",
              "      <td>l2</td>\n",
              "      <td>{'C': 2.4, 'penalty': 'l2'}</td>\n",
              "      <td>1.0</td>\n",
              "      <td>0.933333</td>\n",
              "      <td>1.0</td>\n",
              "      <td>1.000000</td>\n",
              "      <td>0.933333</td>\n",
              "      <td>1.000000</td>\n",
              "      <td>0.933333</td>\n",
              "      <td>1.0</td>\n",
              "      <td>1.0</td>\n",
              "      <td>1.0</td>\n",
              "      <td>0.980000</td>\n",
              "      <td>0.030551</td>\n",
              "      <td>1</td>\n",
              "    </tr>\n",
              "  </tbody>\n",
              "</table>\n",
              "</div>"
            ],
            "text/plain": [
              "    mean_fit_time  std_fit_time  ...  std_test_score  rank_test_score\n",
              "0        0.000086      0.000029  ...             NaN                7\n",
              "1        0.045714      0.004465  ...        0.033333                6\n",
              "2        0.000074      0.000013  ...             NaN                8\n",
              "3        0.048996      0.003624  ...        0.032660                2\n",
              "4        0.000071      0.000014  ...             NaN                9\n",
              "5        0.053259      0.006033  ...        0.032660                2\n",
              "6        0.000061      0.000011  ...             NaN               10\n",
              "7        0.050863      0.002357  ...        0.032660                2\n",
              "8        0.000065      0.000012  ...             NaN               11\n",
              "9        0.056084      0.011107  ...        0.032660                2\n",
              "10       0.000068      0.000008  ...             NaN               12\n",
              "11       0.044371      0.010405  ...        0.030551                1\n",
              "\n",
              "[12 rows x 20 columns]"
            ]
          },
          "metadata": {},
          "execution_count": 34
        }
      ]
    },
    {
      "cell_type": "code",
      "metadata": {
        "id": "gsCggAGjs-o-"
      },
      "source": [
        "## standardScaler : 표준화 클래스"
      ],
      "execution_count": null,
      "outputs": []
    },
    {
      "cell_type": "code",
      "metadata": {
        "colab": {
          "base_uri": "https://localhost:8080/",
          "height": 297
        },
        "id": "hbMJUKgCyivr",
        "outputId": "69819451-ddeb-4e80-bb69-c95b02165fd9"
      },
      "source": [
        "iris = load_iris()\n",
        "iris_df = pd.DataFrame(data=iris.data,columns=iris.feature_names)\n",
        "iris_df.describe()"
      ],
      "execution_count": null,
      "outputs": [
        {
          "output_type": "execute_result",
          "data": {
            "text/html": [
              "<div>\n",
              "<style scoped>\n",
              "    .dataframe tbody tr th:only-of-type {\n",
              "        vertical-align: middle;\n",
              "    }\n",
              "\n",
              "    .dataframe tbody tr th {\n",
              "        vertical-align: top;\n",
              "    }\n",
              "\n",
              "    .dataframe thead th {\n",
              "        text-align: right;\n",
              "    }\n",
              "</style>\n",
              "<table border=\"1\" class=\"dataframe\">\n",
              "  <thead>\n",
              "    <tr style=\"text-align: right;\">\n",
              "      <th></th>\n",
              "      <th>sepal length (cm)</th>\n",
              "      <th>sepal width (cm)</th>\n",
              "      <th>petal length (cm)</th>\n",
              "      <th>petal width (cm)</th>\n",
              "    </tr>\n",
              "  </thead>\n",
              "  <tbody>\n",
              "    <tr>\n",
              "      <th>count</th>\n",
              "      <td>150.000000</td>\n",
              "      <td>150.000000</td>\n",
              "      <td>150.000000</td>\n",
              "      <td>150.000000</td>\n",
              "    </tr>\n",
              "    <tr>\n",
              "      <th>mean</th>\n",
              "      <td>5.843333</td>\n",
              "      <td>3.057333</td>\n",
              "      <td>3.758000</td>\n",
              "      <td>1.199333</td>\n",
              "    </tr>\n",
              "    <tr>\n",
              "      <th>std</th>\n",
              "      <td>0.828066</td>\n",
              "      <td>0.435866</td>\n",
              "      <td>1.765298</td>\n",
              "      <td>0.762238</td>\n",
              "    </tr>\n",
              "    <tr>\n",
              "      <th>min</th>\n",
              "      <td>4.300000</td>\n",
              "      <td>2.000000</td>\n",
              "      <td>1.000000</td>\n",
              "      <td>0.100000</td>\n",
              "    </tr>\n",
              "    <tr>\n",
              "      <th>25%</th>\n",
              "      <td>5.100000</td>\n",
              "      <td>2.800000</td>\n",
              "      <td>1.600000</td>\n",
              "      <td>0.300000</td>\n",
              "    </tr>\n",
              "    <tr>\n",
              "      <th>50%</th>\n",
              "      <td>5.800000</td>\n",
              "      <td>3.000000</td>\n",
              "      <td>4.350000</td>\n",
              "      <td>1.300000</td>\n",
              "    </tr>\n",
              "    <tr>\n",
              "      <th>75%</th>\n",
              "      <td>6.400000</td>\n",
              "      <td>3.300000</td>\n",
              "      <td>5.100000</td>\n",
              "      <td>1.800000</td>\n",
              "    </tr>\n",
              "    <tr>\n",
              "      <th>max</th>\n",
              "      <td>7.900000</td>\n",
              "      <td>4.400000</td>\n",
              "      <td>6.900000</td>\n",
              "      <td>2.500000</td>\n",
              "    </tr>\n",
              "  </tbody>\n",
              "</table>\n",
              "</div>"
            ],
            "text/plain": [
              "       sepal length (cm)  sepal width (cm)  petal length (cm)  petal width (cm)\n",
              "count         150.000000        150.000000         150.000000        150.000000\n",
              "mean            5.843333          3.057333           3.758000          1.199333\n",
              "std             0.828066          0.435866           1.765298          0.762238\n",
              "min             4.300000          2.000000           1.000000          0.100000\n",
              "25%             5.100000          2.800000           1.600000          0.300000\n",
              "50%             5.800000          3.000000           4.350000          1.300000\n",
              "75%             6.400000          3.300000           5.100000          1.800000\n",
              "max             7.900000          4.400000           6.900000          2.500000"
            ]
          },
          "metadata": {},
          "execution_count": 36
        }
      ]
    },
    {
      "cell_type": "code",
      "metadata": {
        "colab": {
          "base_uri": "https://localhost:8080/",
          "height": 297
        },
        "id": "V3PetocAywYR",
        "outputId": "731e8f69-55eb-4dc3-8eb0-cebf43988b96"
      },
      "source": [
        "from sklearn.preprocessing import StandardScaler\n",
        "scaler = StandardScaler()\n",
        "iris_scaled = scaler.fit_transform(iris_df)\n",
        "\n",
        "iris_df_scaled = pd.DataFrame(data=iris_scaled, columns=iris.feature_names)\n",
        "iris_df_scaled.describe()"
      ],
      "execution_count": null,
      "outputs": [
        {
          "output_type": "execute_result",
          "data": {
            "text/html": [
              "<div>\n",
              "<style scoped>\n",
              "    .dataframe tbody tr th:only-of-type {\n",
              "        vertical-align: middle;\n",
              "    }\n",
              "\n",
              "    .dataframe tbody tr th {\n",
              "        vertical-align: top;\n",
              "    }\n",
              "\n",
              "    .dataframe thead th {\n",
              "        text-align: right;\n",
              "    }\n",
              "</style>\n",
              "<table border=\"1\" class=\"dataframe\">\n",
              "  <thead>\n",
              "    <tr style=\"text-align: right;\">\n",
              "      <th></th>\n",
              "      <th>sepal length (cm)</th>\n",
              "      <th>sepal width (cm)</th>\n",
              "      <th>petal length (cm)</th>\n",
              "      <th>petal width (cm)</th>\n",
              "    </tr>\n",
              "  </thead>\n",
              "  <tbody>\n",
              "    <tr>\n",
              "      <th>count</th>\n",
              "      <td>1.500000e+02</td>\n",
              "      <td>1.500000e+02</td>\n",
              "      <td>1.500000e+02</td>\n",
              "      <td>1.500000e+02</td>\n",
              "    </tr>\n",
              "    <tr>\n",
              "      <th>mean</th>\n",
              "      <td>-1.690315e-15</td>\n",
              "      <td>-1.842970e-15</td>\n",
              "      <td>-1.698641e-15</td>\n",
              "      <td>-1.409243e-15</td>\n",
              "    </tr>\n",
              "    <tr>\n",
              "      <th>std</th>\n",
              "      <td>1.003350e+00</td>\n",
              "      <td>1.003350e+00</td>\n",
              "      <td>1.003350e+00</td>\n",
              "      <td>1.003350e+00</td>\n",
              "    </tr>\n",
              "    <tr>\n",
              "      <th>min</th>\n",
              "      <td>-1.870024e+00</td>\n",
              "      <td>-2.433947e+00</td>\n",
              "      <td>-1.567576e+00</td>\n",
              "      <td>-1.447076e+00</td>\n",
              "    </tr>\n",
              "    <tr>\n",
              "      <th>25%</th>\n",
              "      <td>-9.006812e-01</td>\n",
              "      <td>-5.923730e-01</td>\n",
              "      <td>-1.226552e+00</td>\n",
              "      <td>-1.183812e+00</td>\n",
              "    </tr>\n",
              "    <tr>\n",
              "      <th>50%</th>\n",
              "      <td>-5.250608e-02</td>\n",
              "      <td>-1.319795e-01</td>\n",
              "      <td>3.364776e-01</td>\n",
              "      <td>1.325097e-01</td>\n",
              "    </tr>\n",
              "    <tr>\n",
              "      <th>75%</th>\n",
              "      <td>6.745011e-01</td>\n",
              "      <td>5.586108e-01</td>\n",
              "      <td>7.627583e-01</td>\n",
              "      <td>7.906707e-01</td>\n",
              "    </tr>\n",
              "    <tr>\n",
              "      <th>max</th>\n",
              "      <td>2.492019e+00</td>\n",
              "      <td>3.090775e+00</td>\n",
              "      <td>1.785832e+00</td>\n",
              "      <td>1.712096e+00</td>\n",
              "    </tr>\n",
              "  </tbody>\n",
              "</table>\n",
              "</div>"
            ],
            "text/plain": [
              "       sepal length (cm)  sepal width (cm)  petal length (cm)  petal width (cm)\n",
              "count       1.500000e+02      1.500000e+02       1.500000e+02      1.500000e+02\n",
              "mean       -1.690315e-15     -1.842970e-15      -1.698641e-15     -1.409243e-15\n",
              "std         1.003350e+00      1.003350e+00       1.003350e+00      1.003350e+00\n",
              "min        -1.870024e+00     -2.433947e+00      -1.567576e+00     -1.447076e+00\n",
              "25%        -9.006812e-01     -5.923730e-01      -1.226552e+00     -1.183812e+00\n",
              "50%        -5.250608e-02     -1.319795e-01       3.364776e-01      1.325097e-01\n",
              "75%         6.745011e-01      5.586108e-01       7.627583e-01      7.906707e-01\n",
              "max         2.492019e+00      3.090775e+00       1.785832e+00      1.712096e+00"
            ]
          },
          "metadata": {},
          "execution_count": 39
        }
      ]
    },
    {
      "cell_type": "code",
      "metadata": {
        "colab": {
          "base_uri": "https://localhost:8080/"
        },
        "id": "x-FGplExzwJO",
        "outputId": "382845c8-d5fa-4be1-ca33-d82e37aa5e57"
      },
      "source": [
        "X_train, X_test, y_train, y_test = train_test_split(iris_df_scaled,iris.target,test_size=0.3)\n",
        "\n",
        "model = LogisticRegression()\n",
        "model.fit(X_train, y_train)\n",
        "\n",
        "print(\"훈련 데이터 점수:{}\".format(model.score(X_train,y_train)))\n",
        "print(\"평가 데이터 점수:{}\".format(model.score(X_test, y_test)))\n"
      ],
      "execution_count": null,
      "outputs": [
        {
          "output_type": "stream",
          "name": "stdout",
          "text": [
            "훈련 데이터 점수:0.9714285714285714\n",
            "평가 데이터 점수:0.9777777777777777\n"
          ]
        }
      ]
    },
    {
      "cell_type": "code",
      "metadata": {
        "id": "zYvWyPL20xPg"
      },
      "source": [
        "##MinMaxScaler: 정규화 클래스"
      ],
      "execution_count": null,
      "outputs": []
    },
    {
      "cell_type": "code",
      "metadata": {
        "colab": {
          "base_uri": "https://localhost:8080/",
          "height": 297
        },
        "id": "kKDS7i1907pW",
        "outputId": "f8ba9dde-b2cc-4490-d6c5-418d2ff68236"
      },
      "source": [
        "from sklearn.preprocessing import MinMaxScaler\n",
        "\n",
        "scaler = MinMaxScaler()\n",
        "iris_scaled = scaler.fit_transform(iris_df)\n",
        "iris_df_scaled = pd.DataFrame(data=iris_scaled, columns=iris.feature_names)\n",
        "iris_df_scaled.describe()"
      ],
      "execution_count": null,
      "outputs": [
        {
          "output_type": "execute_result",
          "data": {
            "text/html": [
              "<div>\n",
              "<style scoped>\n",
              "    .dataframe tbody tr th:only-of-type {\n",
              "        vertical-align: middle;\n",
              "    }\n",
              "\n",
              "    .dataframe tbody tr th {\n",
              "        vertical-align: top;\n",
              "    }\n",
              "\n",
              "    .dataframe thead th {\n",
              "        text-align: right;\n",
              "    }\n",
              "</style>\n",
              "<table border=\"1\" class=\"dataframe\">\n",
              "  <thead>\n",
              "    <tr style=\"text-align: right;\">\n",
              "      <th></th>\n",
              "      <th>sepal length (cm)</th>\n",
              "      <th>sepal width (cm)</th>\n",
              "      <th>petal length (cm)</th>\n",
              "      <th>petal width (cm)</th>\n",
              "    </tr>\n",
              "  </thead>\n",
              "  <tbody>\n",
              "    <tr>\n",
              "      <th>count</th>\n",
              "      <td>150.000000</td>\n",
              "      <td>150.000000</td>\n",
              "      <td>150.000000</td>\n",
              "      <td>150.000000</td>\n",
              "    </tr>\n",
              "    <tr>\n",
              "      <th>mean</th>\n",
              "      <td>0.428704</td>\n",
              "      <td>0.440556</td>\n",
              "      <td>0.467458</td>\n",
              "      <td>0.458056</td>\n",
              "    </tr>\n",
              "    <tr>\n",
              "      <th>std</th>\n",
              "      <td>0.230018</td>\n",
              "      <td>0.181611</td>\n",
              "      <td>0.299203</td>\n",
              "      <td>0.317599</td>\n",
              "    </tr>\n",
              "    <tr>\n",
              "      <th>min</th>\n",
              "      <td>0.000000</td>\n",
              "      <td>0.000000</td>\n",
              "      <td>0.000000</td>\n",
              "      <td>0.000000</td>\n",
              "    </tr>\n",
              "    <tr>\n",
              "      <th>25%</th>\n",
              "      <td>0.222222</td>\n",
              "      <td>0.333333</td>\n",
              "      <td>0.101695</td>\n",
              "      <td>0.083333</td>\n",
              "    </tr>\n",
              "    <tr>\n",
              "      <th>50%</th>\n",
              "      <td>0.416667</td>\n",
              "      <td>0.416667</td>\n",
              "      <td>0.567797</td>\n",
              "      <td>0.500000</td>\n",
              "    </tr>\n",
              "    <tr>\n",
              "      <th>75%</th>\n",
              "      <td>0.583333</td>\n",
              "      <td>0.541667</td>\n",
              "      <td>0.694915</td>\n",
              "      <td>0.708333</td>\n",
              "    </tr>\n",
              "    <tr>\n",
              "      <th>max</th>\n",
              "      <td>1.000000</td>\n",
              "      <td>1.000000</td>\n",
              "      <td>1.000000</td>\n",
              "      <td>1.000000</td>\n",
              "    </tr>\n",
              "  </tbody>\n",
              "</table>\n",
              "</div>"
            ],
            "text/plain": [
              "       sepal length (cm)  sepal width (cm)  petal length (cm)  petal width (cm)\n",
              "count         150.000000        150.000000         150.000000        150.000000\n",
              "mean            0.428704          0.440556           0.467458          0.458056\n",
              "std             0.230018          0.181611           0.299203          0.317599\n",
              "min             0.000000          0.000000           0.000000          0.000000\n",
              "25%             0.222222          0.333333           0.101695          0.083333\n",
              "50%             0.416667          0.416667           0.567797          0.500000\n",
              "75%             0.583333          0.541667           0.694915          0.708333\n",
              "max             1.000000          1.000000           1.000000          1.000000"
            ]
          },
          "metadata": {},
          "execution_count": 42
        }
      ]
    },
    {
      "cell_type": "code",
      "metadata": {
        "colab": {
          "base_uri": "https://localhost:8080/"
        },
        "id": "rBp478gH1fKs",
        "outputId": "19e2d390-31c8-4e71-b0cf-2c75d5682c93"
      },
      "source": [
        "X_train, X_test, y_train, y_test = train_test_split(iris_df_scaled,iris.target, test_size=0.3)\n",
        "\n",
        "model = LogisticRegression()\n",
        "model.fit(X_train,y_train)\n",
        "\n",
        "print(\"훈련 데이터 점수:{}\".format(model.score(X_train,y_train)))\n",
        "print(\"훈련 데이터 점수:{}\".format(model.score(X_test,y_test)))"
      ],
      "execution_count": null,
      "outputs": [
        {
          "output_type": "stream",
          "name": "stdout",
          "text": [
            "훈련 데이터 점수:0.9428571428571428\n",
            "훈련 데이터 점수:0.9333333333333333\n"
          ]
        }
      ]
    },
    {
      "cell_type": "code",
      "metadata": {
        "id": "tdlF5Pno2WBi"
      },
      "source": [
        "### 성능 평가 지표"
      ],
      "execution_count": null,
      "outputs": []
    },
    {
      "cell_type": "code",
      "metadata": {
        "id": "BgWEDP1X2mJN"
      },
      "source": [
        "## 정확도(Accuracy)"
      ],
      "execution_count": null,
      "outputs": []
    },
    {
      "cell_type": "code",
      "metadata": {
        "colab": {
          "base_uri": "https://localhost:8080/"
        },
        "id": "reu06WX32s8W",
        "outputId": "9cb3389d-dec0-44e1-b15b-3c95d7625bf1"
      },
      "source": [
        "from sklearn.datasets import make_classification\n",
        "from sklearn.linear_model import LogisticRegression\n",
        "from sklearn.metrics import accuracy_score\n",
        "\n",
        "X, y = make_classification(n_samples=1000, n_features=2,n_informative=2,\n",
        "                           n_redundant=0, n_clusters_per_class=1)\n",
        "X_train, X_test, y_train, y_test = train_test_split(X, y, test_size=0.3)\n",
        "\n",
        "model = LogisticRegression()\n",
        "model.fit(X_train, y_train)\n",
        "\n",
        "print(\"훈련 데이터 점수 :{}\".format(model.score(X_train, y_train)))\n",
        "print(\"평가 데이터 점수 :{}\".format(model.score(X_test, y_test)))\n",
        "\n",
        "predict = model.predict(X_test)\n",
        "print(\"정확도:{}\".format(accuracy_score(y_test,predict)))"
      ],
      "execution_count": null,
      "outputs": [
        {
          "output_type": "stream",
          "name": "stdout",
          "text": [
            "훈련 데이터 점수 :0.9528571428571428\n",
            "평가 데이터 점수 :0.96\n",
            "정확도:0.96\n"
          ]
        }
      ]
    },
    {
      "cell_type": "code",
      "metadata": {
        "id": "y0n5XYAy3-lp"
      },
      "source": [
        "##오차 행렬(Confusion Matrix)"
      ],
      "execution_count": 54,
      "outputs": []
    },
    {
      "cell_type": "code",
      "metadata": {
        "colab": {
          "base_uri": "https://localhost:8080/"
        },
        "id": "VQ5OHlSt-een",
        "outputId": "6c620b8d-a18b-4a2e-8847-a1e6566384a5"
      },
      "source": [
        "from sklearn.metrics import confusion_matrix\n",
        "\n",
        "confmat = confusion_matrix(y_true=y_test, y_pred=predict)\n",
        "print(confmat)"
      ],
      "execution_count": 55,
      "outputs": [
        {
          "output_type": "stream",
          "name": "stdout",
          "text": [
            "[[158   4]\n",
            " [  8 130]]\n"
          ]
        }
      ]
    },
    {
      "cell_type": "code",
      "metadata": {
        "colab": {
          "base_uri": "https://localhost:8080/",
          "height": 189
        },
        "id": "FpVuGOc6-3Nw",
        "outputId": "6a235bf0-f352-4c40-dc37-7259b4088e6c"
      },
      "source": [
        "fig, ax = plt.subplots(figsize=(2.5,2.5))\n",
        "ax.matshow(confmat,cmap=plt.cm.Blues,alpha=0.3)\n",
        "for i in range(confmat.shape[0]):\n",
        "  for j in range(confmat.shape[1]):\n",
        "    ax.text(x=j, y=i, s=confmat[i,j], va='center', ha='center')\n",
        "\n",
        "plt.xlabel('predicted label')\n",
        "plt.ylabel('True label')\n",
        "plt.tight_layout()\n",
        "plt.show()"
      ],
      "execution_count": 56,
      "outputs": [
        {
          "output_type": "display_data",
          "data": {
            "image/png": "[encoded data removed]",
            "text/plain": [
              "<Figure size 180x180 with 1 Axes>"
            ]
          },
          "metadata": {}
        }
      ]
    },
    {
      "cell_type": "code",
      "metadata": {
        "id": "fUfCXMrfKo0e"
      },
      "source": [
        ""
      ],
      "execution_count": 56,
      "outputs": []
    }
  ]
}