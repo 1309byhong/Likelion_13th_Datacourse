{
  "nbformat": 4,
  "nbformat_minor": 0,
  "metadata": {
    "colab": {
      "name": "Day6_211211.ipynb",
      "provenance": [],
      "authorship_tag": "ABX9TyOt7lJqMypEdohcXeJA+t/B",
      "include_colab_link": true
    },
    "kernelspec": {
      "name": "python3",
      "display_name": "Python 3"
    },
    "language_info": {
      "name": "python"
    }
  },
  "cells": [
    {
      "cell_type": "markdown",
      "metadata": {
        "id": "view-in-github",
        "colab_type": "text"
      },
      "source": [
        "<a href=\"https://colab.research.google.com/github/1309byhong/Likelion_13th_Datacourse/blob/main/Day6_211211.ipynb\" target=\"_parent\"><img src=\"https://colab.research.google.com/assets/colab-badge.svg\" alt=\"Open In Colab\"/></a>"
      ]
    },
    {
      "cell_type": "code",
      "execution_count": 2,
      "metadata": {
        "id": "A7TDQztC9GS3"
      },
      "outputs": [],
      "source": [
        "#str() #repr()"
      ]
    },
    {
      "cell_type": "code",
      "source": [
        "print(str(True))\n",
        "print(str(False))\n",
        "print(str(10))\n",
        "print(str(0b010))\n",
        "print(str(0o130))\n",
        "print(str(0xABC))\n",
        "print(str(12.34))\n",
        "print(str(1234e-2))\n",
        "print(str(1+23j))\n",
        "print(str('10'))\n",
        "print(str([1,2,3]))\n",
        "print(str((1,2,3)))\n",
        "print({2,3,1})\n",
        "print(str({1:'one',2:'Two'}))"
      ],
      "metadata": {
        "colab": {
          "base_uri": "https://localhost:8080/"
        },
        "id": "J81dOZu29P-2",
        "outputId": "b545aa2e-f05a-4c52-e611-8f0ee0459bd0"
      },
      "execution_count": 4,
      "outputs": [
        {
          "output_type": "stream",
          "name": "stdout",
          "text": [
            "True\n",
            "False\n",
            "10\n",
            "2\n",
            "88\n",
            "2748\n",
            "12.34\n",
            "12.34\n",
            "(1+23j)\n",
            "10\n",
            "[1, 2, 3]\n",
            "(1, 2, 3)\n",
            "{1, 2, 3}\n",
            "{1: 'one', 2: 'Two'}\n"
          ]
        }
      ]
    },
    {
      "cell_type": "code",
      "source": [
        "#eval()"
      ],
      "metadata": {
        "id": "dtqHuWVF98Ja"
      },
      "execution_count": 5,
      "outputs": []
    },
    {
      "cell_type": "code",
      "source": [
        "print(\"1+2\")\n",
        "print(eval(\"1+2\"))\n",
        "print(eval(\"10+20-30\"))\n",
        "print(eval(\"10+10\"))\n",
        "print(eval(\"100/10\"))"
      ],
      "metadata": {
        "colab": {
          "base_uri": "https://localhost:8080/"
        },
        "id": "TKdRYeit-dMo",
        "outputId": "ba5a5794-3dd0-4d65-ee90-293ea482c317"
      },
      "execution_count": 8,
      "outputs": [
        {
          "output_type": "stream",
          "name": "stdout",
          "text": [
            "1+2\n",
            "3\n",
            "0\n",
            "20\n",
            "10.0\n"
          ]
        }
      ]
    },
    {
      "cell_type": "code",
      "source": [
        ""
      ],
      "metadata": {
        "id": "2CBuCKrk-lNT"
      },
      "execution_count": null,
      "outputs": []
    }
  ]
}