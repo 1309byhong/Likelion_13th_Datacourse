{
  "nbformat": 4,
  "nbformat_minor": 0,
  "metadata": {
    "colab": {
      "name": "Day11_211216.ipynb",
      "provenance": [],
      "authorship_tag": "ABX9TyPmepo3cczR7aGIyX6h0+AG",
      "include_colab_link": true
    },
    "kernelspec": {
      "name": "python3",
      "display_name": "Python 3"
    },
    "language_info": {
      "name": "python"
    }
  },
  "cells": [
    {
      "cell_type": "markdown",
      "metadata": {
        "id": "view-in-github",
        "colab_type": "text"
      },
      "source": [
        "<a href=\"https://colab.research.google.com/github/1309byhong/Likelion_13th_Datacourse/blob/main/Day11_211216.ipynb\" target=\"_parent\"><img src=\"https://colab.research.google.com/assets/colab-badge.svg\" alt=\"Open In Colab\"/></a>"
      ]
    },
    {
      "cell_type": "markdown",
      "source": [
        "3 라이브러리 불러오기"
      ],
      "metadata": {
        "id": "Yq3klq7dPiwA"
      }
    },
    {
      "cell_type": "code",
      "execution_count": 2,
      "metadata": {
        "id": "qpQ6BS3OOKMk"
      },
      "outputs": [],
      "source": [
        "import pandas as pd #데이터 분석 \n",
        "import seaborn as sns #데이터 시각화\n",
        "import numpy as np #수치계산을 위한 라이브러리"
      ]
    },
    {
      "cell_type": "markdown",
      "source": [
        "4 FinanceDataReader로 수집한 전체 종목 불러오기"
      ],
      "metadata": {
        "id": "D_R_QmtsPi_a"
      }
    },
    {
      "cell_type": "code",
      "source": [
        "df = pd.read_csv(\"krx.csv\")\n",
        "df.shape"
      ],
      "metadata": {
        "colab": {
          "base_uri": "https://localhost:8080/",
          "height": 189
        },
        "id": "e7SepPWvPvNx",
        "outputId": "13120153-8223-43b8-dedc-b8cad51677f1"
      },
      "execution_count": 1,
      "outputs": [
        {
          "output_type": "error",
          "ename": "NameError",
          "evalue": "ignored",
          "traceback": [
            "\u001b[0;31m---------------------------------------------------------------------------\u001b[0m",
            "\u001b[0;31mNameError\u001b[0m                                 Traceback (most recent call last)",
            "\u001b[0;32m<ipython-input-1-3a198cd3a2e9>\u001b[0m in \u001b[0;36m<module>\u001b[0;34m()\u001b[0m\n\u001b[0;32m----> 1\u001b[0;31m \u001b[0mdf\u001b[0m \u001b[0;34m=\u001b[0m \u001b[0mpd\u001b[0m\u001b[0;34m.\u001b[0m\u001b[0mread_csv\u001b[0m\u001b[0;34m(\u001b[0m\u001b[0;34m\"krx.csv\"\u001b[0m\u001b[0;34m)\u001b[0m\u001b[0;34m\u001b[0m\u001b[0;34m\u001b[0m\u001b[0m\n\u001b[0m\u001b[1;32m      2\u001b[0m \u001b[0mdf\u001b[0m\u001b[0;34m.\u001b[0m\u001b[0mshape\u001b[0m\u001b[0;34m\u001b[0m\u001b[0;34m\u001b[0m\u001b[0m\n",
            "\u001b[0;31mNameError\u001b[0m: name 'pd' is not defined"
          ]
        }
      ]
    },
    {
      "cell_type": "code",
      "source": [
        "!pip install -U finance-dataReader"
      ],
      "metadata": {
        "colab": {
          "base_uri": "https://localhost:8080/"
        },
        "id": "_CyjJkmgQDME",
        "outputId": "4cd1eb6c-8639-41e4-8655-55b8f39d1aad"
      },
      "execution_count": 3,
      "outputs": [
        {
          "output_type": "stream",
          "name": "stdout",
          "text": [
            "Collecting finance-dataReader\n",
            "  Downloading finance_datareader-0.9.31-py3-none-any.whl (17 kB)\n",
            "Requirement already satisfied: requests>=2.3.0 in /usr/local/lib/python3.7/dist-packages (from finance-dataReader) (2.23.0)\n",
            "Requirement already satisfied: lxml in /usr/local/lib/python3.7/dist-packages (from finance-dataReader) (4.2.6)\n",
            "Requirement already satisfied: tqdm in /usr/local/lib/python3.7/dist-packages (from finance-dataReader) (4.62.3)\n",
            "Requirement already satisfied: pandas>=0.19.2 in /usr/local/lib/python3.7/dist-packages (from finance-dataReader) (1.1.5)\n",
            "Collecting requests-file\n",
            "  Downloading requests_file-1.5.1-py2.py3-none-any.whl (3.7 kB)\n",
            "Requirement already satisfied: python-dateutil>=2.7.3 in /usr/local/lib/python3.7/dist-packages (from pandas>=0.19.2->finance-dataReader) (2.8.2)\n",
            "Requirement already satisfied: numpy>=1.15.4 in /usr/local/lib/python3.7/dist-packages (from pandas>=0.19.2->finance-dataReader) (1.19.5)\n",
            "Requirement already satisfied: pytz>=2017.2 in /usr/local/lib/python3.7/dist-packages (from pandas>=0.19.2->finance-dataReader) (2018.9)\n",
            "Requirement already satisfied: six>=1.5 in /usr/local/lib/python3.7/dist-packages (from python-dateutil>=2.7.3->pandas>=0.19.2->finance-dataReader) (1.15.0)\n",
            "Requirement already satisfied: urllib3!=1.25.0,!=1.25.1,<1.26,>=1.21.1 in /usr/local/lib/python3.7/dist-packages (from requests>=2.3.0->finance-dataReader) (1.24.3)\n",
            "Requirement already satisfied: certifi>=2017.4.17 in /usr/local/lib/python3.7/dist-packages (from requests>=2.3.0->finance-dataReader) (2021.10.8)\n",
            "Requirement already satisfied: chardet<4,>=3.0.2 in /usr/local/lib/python3.7/dist-packages (from requests>=2.3.0->finance-dataReader) (3.0.4)\n",
            "Requirement already satisfied: idna<3,>=2.5 in /usr/local/lib/python3.7/dist-packages (from requests>=2.3.0->finance-dataReader) (2.10)\n",
            "Installing collected packages: requests-file, finance-dataReader\n",
            "Successfully installed finance-dataReader-0.9.31 requests-file-1.5.1\n"
          ]
        }
      ]
    },
    {
      "cell_type": "code",
      "source": [
        "import FinanceDataReader as fdr"
      ],
      "metadata": {
        "id": "EVfxgaquQi2l"
      },
      "execution_count": 5,
      "outputs": []
    },
    {
      "cell_type": "code",
      "source": [
        "df = fdr.DataReader('005930',\"2017\",\"2021\")\n",
        "df.head()"
      ],
      "metadata": {
        "colab": {
          "base_uri": "https://localhost:8080/",
          "height": 235
        },
        "id": "L3GUjejBQrcF",
        "outputId": "6b406d2e-5eb9-48b0-aead-f454dfb7dd89"
      },
      "execution_count": 6,
      "outputs": [
        {
          "output_type": "execute_result",
          "data": {
            "text/html": [
              "<div>\n",
              "<style scoped>\n",
              "    .dataframe tbody tr th:only-of-type {\n",
              "        vertical-align: middle;\n",
              "    }\n",
              "\n",
              "    .dataframe tbody tr th {\n",
              "        vertical-align: top;\n",
              "    }\n",
              "\n",
              "    .dataframe thead th {\n",
              "        text-align: right;\n",
              "    }\n",
              "</style>\n",
              "<table border=\"1\" class=\"dataframe\">\n",
              "  <thead>\n",
              "    <tr style=\"text-align: right;\">\n",
              "      <th></th>\n",
              "      <th>Open</th>\n",
              "      <th>High</th>\n",
              "      <th>Low</th>\n",
              "      <th>Close</th>\n",
              "      <th>Volume</th>\n",
              "      <th>Change</th>\n",
              "    </tr>\n",
              "    <tr>\n",
              "      <th>Date</th>\n",
              "      <th></th>\n",
              "      <th></th>\n",
              "      <th></th>\n",
              "      <th></th>\n",
              "      <th></th>\n",
              "      <th></th>\n",
              "    </tr>\n",
              "  </thead>\n",
              "  <tbody>\n",
              "    <tr>\n",
              "      <th>2017-01-02</th>\n",
              "      <td>35980</td>\n",
              "      <td>36240</td>\n",
              "      <td>35880</td>\n",
              "      <td>36100</td>\n",
              "      <td>93012</td>\n",
              "      <td>0.001665</td>\n",
              "    </tr>\n",
              "    <tr>\n",
              "      <th>2017-01-03</th>\n",
              "      <td>36280</td>\n",
              "      <td>36620</td>\n",
              "      <td>36020</td>\n",
              "      <td>36480</td>\n",
              "      <td>147153</td>\n",
              "      <td>0.010526</td>\n",
              "    </tr>\n",
              "    <tr>\n",
              "      <th>2017-01-04</th>\n",
              "      <td>36500</td>\n",
              "      <td>36520</td>\n",
              "      <td>36100</td>\n",
              "      <td>36160</td>\n",
              "      <td>159435</td>\n",
              "      <td>-0.008772</td>\n",
              "    </tr>\n",
              "    <tr>\n",
              "      <th>2017-01-05</th>\n",
              "      <td>36060</td>\n",
              "      <td>36060</td>\n",
              "      <td>35540</td>\n",
              "      <td>35560</td>\n",
              "      <td>219349</td>\n",
              "      <td>-0.016593</td>\n",
              "    </tr>\n",
              "    <tr>\n",
              "      <th>2017-01-06</th>\n",
              "      <td>36180</td>\n",
              "      <td>36440</td>\n",
              "      <td>36040</td>\n",
              "      <td>36200</td>\n",
              "      <td>177619</td>\n",
              "      <td>0.017998</td>\n",
              "    </tr>\n",
              "  </tbody>\n",
              "</table>\n",
              "</div>"
            ],
            "text/plain": [
              "             Open   High    Low  Close  Volume    Change\n",
              "Date                                                    \n",
              "2017-01-02  35980  36240  35880  36100   93012  0.001665\n",
              "2017-01-03  36280  36620  36020  36480  147153  0.010526\n",
              "2017-01-04  36500  36520  36100  36160  159435 -0.008772\n",
              "2017-01-05  36060  36060  35540  35560  219349 -0.016593\n",
              "2017-01-06  36180  36440  36040  36200  177619  0.017998"
            ]
          },
          "metadata": {},
          "execution_count": 6
        }
      ]
    },
    {
      "cell_type": "code",
      "source": [
        "df.head?"
      ],
      "metadata": {
        "id": "5T7k9EnxREwN"
      },
      "execution_count": 7,
      "outputs": []
    },
    {
      "cell_type": "code",
      "source": [
        "df.head()"
      ],
      "metadata": {
        "colab": {
          "base_uri": "https://localhost:8080/",
          "height": 235
        },
        "id": "GIbr-Zq7Rkw7",
        "outputId": "fa2fb098-face-4ac0-fb04-6896647e2b03"
      },
      "execution_count": 8,
      "outputs": [
        {
          "output_type": "execute_result",
          "data": {
            "text/html": [
              "<div>\n",
              "<style scoped>\n",
              "    .dataframe tbody tr th:only-of-type {\n",
              "        vertical-align: middle;\n",
              "    }\n",
              "\n",
              "    .dataframe tbody tr th {\n",
              "        vertical-align: top;\n",
              "    }\n",
              "\n",
              "    .dataframe thead th {\n",
              "        text-align: right;\n",
              "    }\n",
              "</style>\n",
              "<table border=\"1\" class=\"dataframe\">\n",
              "  <thead>\n",
              "    <tr style=\"text-align: right;\">\n",
              "      <th></th>\n",
              "      <th>Open</th>\n",
              "      <th>High</th>\n",
              "      <th>Low</th>\n",
              "      <th>Close</th>\n",
              "      <th>Volume</th>\n",
              "      <th>Change</th>\n",
              "    </tr>\n",
              "    <tr>\n",
              "      <th>Date</th>\n",
              "      <th></th>\n",
              "      <th></th>\n",
              "      <th></th>\n",
              "      <th></th>\n",
              "      <th></th>\n",
              "      <th></th>\n",
              "    </tr>\n",
              "  </thead>\n",
              "  <tbody>\n",
              "    <tr>\n",
              "      <th>2017-01-02</th>\n",
              "      <td>35980</td>\n",
              "      <td>36240</td>\n",
              "      <td>35880</td>\n",
              "      <td>36100</td>\n",
              "      <td>93012</td>\n",
              "      <td>0.001665</td>\n",
              "    </tr>\n",
              "    <tr>\n",
              "      <th>2017-01-03</th>\n",
              "      <td>36280</td>\n",
              "      <td>36620</td>\n",
              "      <td>36020</td>\n",
              "      <td>36480</td>\n",
              "      <td>147153</td>\n",
              "      <td>0.010526</td>\n",
              "    </tr>\n",
              "    <tr>\n",
              "      <th>2017-01-04</th>\n",
              "      <td>36500</td>\n",
              "      <td>36520</td>\n",
              "      <td>36100</td>\n",
              "      <td>36160</td>\n",
              "      <td>159435</td>\n",
              "      <td>-0.008772</td>\n",
              "    </tr>\n",
              "    <tr>\n",
              "      <th>2017-01-05</th>\n",
              "      <td>36060</td>\n",
              "      <td>36060</td>\n",
              "      <td>35540</td>\n",
              "      <td>35560</td>\n",
              "      <td>219349</td>\n",
              "      <td>-0.016593</td>\n",
              "    </tr>\n",
              "    <tr>\n",
              "      <th>2017-01-06</th>\n",
              "      <td>36180</td>\n",
              "      <td>36440</td>\n",
              "      <td>36040</td>\n",
              "      <td>36200</td>\n",
              "      <td>177619</td>\n",
              "      <td>0.017998</td>\n",
              "    </tr>\n",
              "  </tbody>\n",
              "</table>\n",
              "</div>"
            ],
            "text/plain": [
              "             Open   High    Low  Close  Volume    Change\n",
              "Date                                                    \n",
              "2017-01-02  35980  36240  35880  36100   93012  0.001665\n",
              "2017-01-03  36280  36620  36020  36480  147153  0.010526\n",
              "2017-01-04  36500  36520  36100  36160  159435 -0.008772\n",
              "2017-01-05  36060  36060  35540  35560  219349 -0.016593\n",
              "2017-01-06  36180  36440  36040  36200  177619  0.017998"
            ]
          },
          "metadata": {},
          "execution_count": 8
        }
      ]
    },
    {
      "cell_type": "code",
      "source": [
        "df.head(1)"
      ],
      "metadata": {
        "colab": {
          "base_uri": "https://localhost:8080/",
          "height": 111
        },
        "id": "4-jBxnmCRuNA",
        "outputId": "c0cca22a-b7ca-412b-a267-b6907f9c2878"
      },
      "execution_count": 9,
      "outputs": [
        {
          "output_type": "execute_result",
          "data": {
            "text/html": [
              "<div>\n",
              "<style scoped>\n",
              "    .dataframe tbody tr th:only-of-type {\n",
              "        vertical-align: middle;\n",
              "    }\n",
              "\n",
              "    .dataframe tbody tr th {\n",
              "        vertical-align: top;\n",
              "    }\n",
              "\n",
              "    .dataframe thead th {\n",
              "        text-align: right;\n",
              "    }\n",
              "</style>\n",
              "<table border=\"1\" class=\"dataframe\">\n",
              "  <thead>\n",
              "    <tr style=\"text-align: right;\">\n",
              "      <th></th>\n",
              "      <th>Open</th>\n",
              "      <th>High</th>\n",
              "      <th>Low</th>\n",
              "      <th>Close</th>\n",
              "      <th>Volume</th>\n",
              "      <th>Change</th>\n",
              "    </tr>\n",
              "    <tr>\n",
              "      <th>Date</th>\n",
              "      <th></th>\n",
              "      <th></th>\n",
              "      <th></th>\n",
              "      <th></th>\n",
              "      <th></th>\n",
              "      <th></th>\n",
              "    </tr>\n",
              "  </thead>\n",
              "  <tbody>\n",
              "    <tr>\n",
              "      <th>2017-01-02</th>\n",
              "      <td>35980</td>\n",
              "      <td>36240</td>\n",
              "      <td>35880</td>\n",
              "      <td>36100</td>\n",
              "      <td>93012</td>\n",
              "      <td>0.001665</td>\n",
              "    </tr>\n",
              "  </tbody>\n",
              "</table>\n",
              "</div>"
            ],
            "text/plain": [
              "             Open   High    Low  Close  Volume    Change\n",
              "Date                                                    \n",
              "2017-01-02  35980  36240  35880  36100   93012  0.001665"
            ]
          },
          "metadata": {},
          "execution_count": 9
        }
      ]
    },
    {
      "cell_type": "code",
      "source": [
        "df.tail()"
      ],
      "metadata": {
        "colab": {
          "base_uri": "https://localhost:8080/",
          "height": 235
        },
        "id": "2KU_dkV9R1L_",
        "outputId": "450c8068-d78d-4e43-8f66-d5a1ac2ff27c"
      },
      "execution_count": 10,
      "outputs": [
        {
          "output_type": "execute_result",
          "data": {
            "text/html": [
              "<div>\n",
              "<style scoped>\n",
              "    .dataframe tbody tr th:only-of-type {\n",
              "        vertical-align: middle;\n",
              "    }\n",
              "\n",
              "    .dataframe tbody tr th {\n",
              "        vertical-align: top;\n",
              "    }\n",
              "\n",
              "    .dataframe thead th {\n",
              "        text-align: right;\n",
              "    }\n",
              "</style>\n",
              "<table border=\"1\" class=\"dataframe\">\n",
              "  <thead>\n",
              "    <tr style=\"text-align: right;\">\n",
              "      <th></th>\n",
              "      <th>Open</th>\n",
              "      <th>High</th>\n",
              "      <th>Low</th>\n",
              "      <th>Close</th>\n",
              "      <th>Volume</th>\n",
              "      <th>Change</th>\n",
              "    </tr>\n",
              "    <tr>\n",
              "      <th>Date</th>\n",
              "      <th></th>\n",
              "      <th></th>\n",
              "      <th></th>\n",
              "      <th></th>\n",
              "      <th></th>\n",
              "      <th></th>\n",
              "    </tr>\n",
              "  </thead>\n",
              "  <tbody>\n",
              "    <tr>\n",
              "      <th>2020-12-23</th>\n",
              "      <td>72400</td>\n",
              "      <td>74000</td>\n",
              "      <td>72300</td>\n",
              "      <td>73900</td>\n",
              "      <td>19411326</td>\n",
              "      <td>0.022130</td>\n",
              "    </tr>\n",
              "    <tr>\n",
              "      <th>2020-12-24</th>\n",
              "      <td>74100</td>\n",
              "      <td>78800</td>\n",
              "      <td>74000</td>\n",
              "      <td>77800</td>\n",
              "      <td>32502870</td>\n",
              "      <td>0.052774</td>\n",
              "    </tr>\n",
              "    <tr>\n",
              "      <th>2020-12-28</th>\n",
              "      <td>79000</td>\n",
              "      <td>80100</td>\n",
              "      <td>78200</td>\n",
              "      <td>78700</td>\n",
              "      <td>40085044</td>\n",
              "      <td>0.011568</td>\n",
              "    </tr>\n",
              "    <tr>\n",
              "      <th>2020-12-29</th>\n",
              "      <td>78800</td>\n",
              "      <td>78900</td>\n",
              "      <td>77300</td>\n",
              "      <td>78300</td>\n",
              "      <td>30339449</td>\n",
              "      <td>-0.005083</td>\n",
              "    </tr>\n",
              "    <tr>\n",
              "      <th>2020-12-30</th>\n",
              "      <td>77400</td>\n",
              "      <td>81300</td>\n",
              "      <td>77300</td>\n",
              "      <td>81000</td>\n",
              "      <td>29417421</td>\n",
              "      <td>0.034483</td>\n",
              "    </tr>\n",
              "  </tbody>\n",
              "</table>\n",
              "</div>"
            ],
            "text/plain": [
              "             Open   High    Low  Close    Volume    Change\n",
              "Date                                                      \n",
              "2020-12-23  72400  74000  72300  73900  19411326  0.022130\n",
              "2020-12-24  74100  78800  74000  77800  32502870  0.052774\n",
              "2020-12-28  79000  80100  78200  78700  40085044  0.011568\n",
              "2020-12-29  78800  78900  77300  78300  30339449 -0.005083\n",
              "2020-12-30  77400  81300  77300  81000  29417421  0.034483"
            ]
          },
          "metadata": {},
          "execution_count": 10
        }
      ]
    },
    {
      "cell_type": "code",
      "source": [
        "df.sample()"
      ],
      "metadata": {
        "colab": {
          "base_uri": "https://localhost:8080/",
          "height": 111
        },
        "id": "0wXrdZuuSMDd",
        "outputId": "9b4f2ccc-5022-4d40-e86c-f8e88e3281d0"
      },
      "execution_count": 11,
      "outputs": [
        {
          "output_type": "execute_result",
          "data": {
            "text/html": [
              "<div>\n",
              "<style scoped>\n",
              "    .dataframe tbody tr th:only-of-type {\n",
              "        vertical-align: middle;\n",
              "    }\n",
              "\n",
              "    .dataframe tbody tr th {\n",
              "        vertical-align: top;\n",
              "    }\n",
              "\n",
              "    .dataframe thead th {\n",
              "        text-align: right;\n",
              "    }\n",
              "</style>\n",
              "<table border=\"1\" class=\"dataframe\">\n",
              "  <thead>\n",
              "    <tr style=\"text-align: right;\">\n",
              "      <th></th>\n",
              "      <th>Open</th>\n",
              "      <th>High</th>\n",
              "      <th>Low</th>\n",
              "      <th>Close</th>\n",
              "      <th>Volume</th>\n",
              "      <th>Change</th>\n",
              "    </tr>\n",
              "    <tr>\n",
              "      <th>Date</th>\n",
              "      <th></th>\n",
              "      <th></th>\n",
              "      <th></th>\n",
              "      <th></th>\n",
              "      <th></th>\n",
              "      <th></th>\n",
              "    </tr>\n",
              "  </thead>\n",
              "  <tbody>\n",
              "    <tr>\n",
              "      <th>2020-05-07</th>\n",
              "      <td>49200</td>\n",
              "      <td>49300</td>\n",
              "      <td>48700</td>\n",
              "      <td>48800</td>\n",
              "      <td>13884411</td>\n",
              "      <td>-0.00813</td>\n",
              "    </tr>\n",
              "  </tbody>\n",
              "</table>\n",
              "</div>"
            ],
            "text/plain": [
              "             Open   High    Low  Close    Volume   Change\n",
              "Date                                                     \n",
              "2020-05-07  49200  49300  48700  48800  13884411 -0.00813"
            ]
          },
          "metadata": {},
          "execution_count": 11
        }
      ]
    },
    {
      "cell_type": "code",
      "source": [
        ""
      ],
      "metadata": {
        "id": "QIfTt2z8SQNo"
      },
      "execution_count": null,
      "outputs": []
    },
    {
      "cell_type": "markdown",
      "source": [
        "5 데이터 요약하기"
      ],
      "metadata": {
        "id": "0Te2oUd4SmBD"
      }
    },
    {
      "cell_type": "code",
      "source": [
        "df.info()"
      ],
      "metadata": {
        "colab": {
          "base_uri": "https://localhost:8080/"
        },
        "id": "2MkRtelwSoNo",
        "outputId": "304ff939-d598-4345-d8c3-abf9dc92926a"
      },
      "execution_count": 12,
      "outputs": [
        {
          "output_type": "stream",
          "name": "stdout",
          "text": [
            "<class 'pandas.core.frame.DataFrame'>\n",
            "DatetimeIndex: 981 entries, 2017-01-02 to 2020-12-30\n",
            "Data columns (total 6 columns):\n",
            " #   Column  Non-Null Count  Dtype  \n",
            "---  ------  --------------  -----  \n",
            " 0   Open    981 non-null    int64  \n",
            " 1   High    981 non-null    int64  \n",
            " 2   Low     981 non-null    int64  \n",
            " 3   Close   981 non-null    int64  \n",
            " 4   Volume  981 non-null    int64  \n",
            " 5   Change  981 non-null    float64\n",
            "dtypes: float64(1), int64(5)\n",
            "memory usage: 53.6 KB\n"
          ]
        }
      ]
    },
    {
      "cell_type": "code",
      "source": [
        "#describe로 기술통계값을 봅니다\n",
        "df.describe()"
      ],
      "metadata": {
        "colab": {
          "base_uri": "https://localhost:8080/",
          "height": 297
        },
        "id": "EonKOlNlSqGz",
        "outputId": "207c1e61-833b-48ce-8dd0-1149270535b3"
      },
      "execution_count": 13,
      "outputs": [
        {
          "output_type": "execute_result",
          "data": {
            "text/html": [
              "<div>\n",
              "<style scoped>\n",
              "    .dataframe tbody tr th:only-of-type {\n",
              "        vertical-align: middle;\n",
              "    }\n",
              "\n",
              "    .dataframe tbody tr th {\n",
              "        vertical-align: top;\n",
              "    }\n",
              "\n",
              "    .dataframe thead th {\n",
              "        text-align: right;\n",
              "    }\n",
              "</style>\n",
              "<table border=\"1\" class=\"dataframe\">\n",
              "  <thead>\n",
              "    <tr style=\"text-align: right;\">\n",
              "      <th></th>\n",
              "      <th>Open</th>\n",
              "      <th>High</th>\n",
              "      <th>Low</th>\n",
              "      <th>Close</th>\n",
              "      <th>Volume</th>\n",
              "      <th>Change</th>\n",
              "    </tr>\n",
              "  </thead>\n",
              "  <tbody>\n",
              "    <tr>\n",
              "      <th>count</th>\n",
              "      <td>981.000000</td>\n",
              "      <td>981.000000</td>\n",
              "      <td>981.000000</td>\n",
              "      <td>981.000000</td>\n",
              "      <td>9.810000e+02</td>\n",
              "      <td>981.000000</td>\n",
              "    </tr>\n",
              "    <tr>\n",
              "      <th>mean</th>\n",
              "      <td>49110.895005</td>\n",
              "      <td>49617.737003</td>\n",
              "      <td>48602.688073</td>\n",
              "      <td>49275.096840</td>\n",
              "      <td>1.029937e+07</td>\n",
              "      <td>0.000971</td>\n",
              "    </tr>\n",
              "    <tr>\n",
              "      <th>std</th>\n",
              "      <td>7428.301314</td>\n",
              "      <td>7529.397767</td>\n",
              "      <td>7336.819254</td>\n",
              "      <td>6930.461695</td>\n",
              "      <td>1.002108e+07</td>\n",
              "      <td>0.017071</td>\n",
              "    </tr>\n",
              "    <tr>\n",
              "      <th>min</th>\n",
              "      <td>0.000000</td>\n",
              "      <td>0.000000</td>\n",
              "      <td>0.000000</td>\n",
              "      <td>35560.000000</td>\n",
              "      <td>0.000000e+00</td>\n",
              "      <td>-0.063877</td>\n",
              "    </tr>\n",
              "    <tr>\n",
              "      <th>25%</th>\n",
              "      <td>44850.000000</td>\n",
              "      <td>45400.000000</td>\n",
              "      <td>44400.000000</td>\n",
              "      <td>44900.000000</td>\n",
              "      <td>2.808360e+05</td>\n",
              "      <td>-0.009018</td>\n",
              "    </tr>\n",
              "    <tr>\n",
              "      <th>50%</th>\n",
              "      <td>47960.000000</td>\n",
              "      <td>48400.000000</td>\n",
              "      <td>47350.000000</td>\n",
              "      <td>47950.000000</td>\n",
              "      <td>9.311126e+06</td>\n",
              "      <td>0.001064</td>\n",
              "    </tr>\n",
              "    <tr>\n",
              "      <th>75%</th>\n",
              "      <td>52500.000000</td>\n",
              "      <td>53120.000000</td>\n",
              "      <td>51900.000000</td>\n",
              "      <td>52600.000000</td>\n",
              "      <td>1.555093e+07</td>\n",
              "      <td>0.010628</td>\n",
              "    </tr>\n",
              "    <tr>\n",
              "      <th>max</th>\n",
              "      <td>79000.000000</td>\n",
              "      <td>81300.000000</td>\n",
              "      <td>78200.000000</td>\n",
              "      <td>81000.000000</td>\n",
              "      <td>6.349111e+07</td>\n",
              "      <td>0.104706</td>\n",
              "    </tr>\n",
              "  </tbody>\n",
              "</table>\n",
              "</div>"
            ],
            "text/plain": [
              "               Open          High  ...        Volume      Change\n",
              "count    981.000000    981.000000  ...  9.810000e+02  981.000000\n",
              "mean   49110.895005  49617.737003  ...  1.029937e+07    0.000971\n",
              "std     7428.301314   7529.397767  ...  1.002108e+07    0.017071\n",
              "min        0.000000      0.000000  ...  0.000000e+00   -0.063877\n",
              "25%    44850.000000  45400.000000  ...  2.808360e+05   -0.009018\n",
              "50%    47960.000000  48400.000000  ...  9.311126e+06    0.001064\n",
              "75%    52500.000000  53120.000000  ...  1.555093e+07    0.010628\n",
              "max    79000.000000  81300.000000  ...  6.349111e+07    0.104706\n",
              "\n",
              "[8 rows x 6 columns]"
            ]
          },
          "metadata": {},
          "execution_count": 13
        }
      ]
    },
    {
      "cell_type": "code",
      "source": [
        ""
      ],
      "metadata": {
        "id": "-pSs-B5uTD1i"
      },
      "execution_count": null,
      "outputs": []
    }
  ]
}