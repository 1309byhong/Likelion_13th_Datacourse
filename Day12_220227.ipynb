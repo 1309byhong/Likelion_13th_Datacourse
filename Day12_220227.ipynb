{
  "nbformat": 4,
  "nbformat_minor": 0,
  "metadata": {
    "colab": {
      "name": "Day12_220227.ipynb",
      "provenance": [],
      "authorship_tag": "ABX9TyP8ZUyE5rMMJpse5tLpXjcC",
      "include_colab_link": true
    },
    "kernelspec": {
      "name": "python3",
      "display_name": "Python 3"
    },
    "language_info": {
      "name": "python"
    }
  },
  "cells": [
    {
      "cell_type": "markdown",
      "metadata": {
        "id": "view-in-github",
        "colab_type": "text"
      },
      "source": [
        "<a href=\"https://colab.research.google.com/github/1309byhong/Likelion_13th_Datacourse/blob/main/Day12_220227.ipynb\" target=\"_parent\"><img src=\"https://colab.research.google.com/assets/colab-badge.svg\" alt=\"Open In Colab\"/></a>"
      ]
    },
    {
      "cell_type": "code",
      "execution_count": 1,
      "metadata": {
        "colab": {
          "base_uri": "https://localhost:8080/"
        },
        "id": "kTmdiepfGmwn",
        "outputId": "48a11ff5-c1af-4f43-a6eb-c001098c91c3"
      },
      "outputs": [
        {
          "output_type": "stream",
          "name": "stdout",
          "text": [
            "Requirement already satisfied: requests in /usr/local/lib/python3.7/dist-packages (2.23.0)\n",
            "Requirement already satisfied: certifi>=2017.4.17 in /usr/local/lib/python3.7/dist-packages (from requests) (2021.10.8)\n",
            "Requirement already satisfied: chardet<4,>=3.0.2 in /usr/local/lib/python3.7/dist-packages (from requests) (3.0.4)\n",
            "Requirement already satisfied: urllib3!=1.25.0,!=1.25.1,<1.26,>=1.21.1 in /usr/local/lib/python3.7/dist-packages (from requests) (1.24.3)\n",
            "Requirement already satisfied: idna<3,>=2.5 in /usr/local/lib/python3.7/dist-packages (from requests) (2.10)\n"
          ]
        }
      ],
      "source": [
        "! pip install requests"
      ]
    },
    {
      "cell_type": "code",
      "source": [
        "import requests"
      ],
      "metadata": {
        "id": "i8aNxmAeGsRt"
      },
      "execution_count": 7,
      "outputs": []
    },
    {
      "cell_type": "code",
      "source": [
        "print(requests)"
      ],
      "metadata": {
        "colab": {
          "base_uri": "https://localhost:8080/"
        },
        "id": "TjMrWvnjG50Q",
        "outputId": "39c7f07d-fe6e-4528-852a-3db3918db1e8"
      },
      "execution_count": 6,
      "outputs": [
        {
          "output_type": "stream",
          "name": "stdout",
          "text": [
            "<module 'requests' from '/usr/local/lib/python3.7/dist-packages/requests/__init__.py'>\n"
          ]
        }
      ]
    },
    {
      "cell_type": "code",
      "source": [
        "#1.requests 모듈에서\n",
        "#2.get 함수를 꺼내\n",
        "#3.요청을 보내줘\n",
        "#4.응답값이야~ return 응답값"
      ],
      "metadata": {
        "id": "-4e_tK6LG88R"
      },
      "execution_count": 4,
      "outputs": []
    },
    {
      "cell_type": "code",
      "source": [
        "print(requests.get) #get요청을 보내는 함수"
      ],
      "metadata": {
        "colab": {
          "base_uri": "https://localhost:8080/"
        },
        "id": "4l1tjgswIvYL",
        "outputId": "db7f35dd-f790-412b-9f83-7399685c33a8"
      },
      "execution_count": 9,
      "outputs": [
        {
          "output_type": "stream",
          "name": "stdout",
          "text": [
            "<function get at 0x7facd8085950>\n"
          ]
        }
      ]
    },
    {
      "cell_type": "code",
      "source": [
        "# 요청 / 응답"
      ],
      "metadata": {
        "id": "WmN4sXu3JF8r"
      },
      "execution_count": 10,
      "outputs": []
    },
    {
      "cell_type": "code",
      "source": [
        "#client가 요청(request)하면 -> www.naver.com의 정보를 -> server에 요청"
      ],
      "metadata": {
        "id": "v4lTRGpmJmc7"
      },
      "execution_count": 11,
      "outputs": []
    },
    {
      "cell_type": "code",
      "source": [
        "#server는 응답(response)나왔습니다 -> html 값을 -> client에게 결과값을 준다."
      ],
      "metadata": {
        "id": "fKbJQpDoKWtp"
      },
      "execution_count": 12,
      "outputs": []
    },
    {
      "cell_type": "code",
      "source": [
        "# client는 요청(requests)을 하는 존재\n",
        "# server는 응답(response)을 하는 존재"
      ],
      "metadata": {
        "id": "HE7AhxFGKqkf"
      },
      "execution_count": 13,
      "outputs": []
    },
    {
      "cell_type": "code",
      "source": [
        "#마을 조립 키트.집 조립 기계(빨간블록)\n",
        "#return : 집"
      ],
      "metadata": {
        "id": "7FSJEqkzK0pL"
      },
      "execution_count": 14,
      "outputs": []
    },
    {
      "cell_type": "code",
      "source": [
        "#requests.get(url)\n",
        "#return:requests.response"
      ],
      "metadata": {
        "id": "ChyPzisQO5xQ"
      },
      "execution_count": 15,
      "outputs": []
    },
    {
      "cell_type": "code",
      "source": [
        "requests.get(url)"
      ],
      "metadata": {
        "colab": {
          "base_uri": "https://localhost:8080/",
          "height": 171
        },
        "id": "x5gAv5NbPVXY",
        "outputId": "85b0cdc6-608d-4eb8-a99d-59e5b95aac12"
      },
      "execution_count": 16,
      "outputs": [
        {
          "output_type": "error",
          "ename": "NameError",
          "evalue": "ignored",
          "traceback": [
            "\u001b[0;31m---------------------------------------------------------------------------\u001b[0m",
            "\u001b[0;31mNameError\u001b[0m                                 Traceback (most recent call last)",
            "\u001b[0;32m<ipython-input-16-b80aa89477da>\u001b[0m in \u001b[0;36m<module>\u001b[0;34m()\u001b[0m\n\u001b[0;32m----> 1\u001b[0;31m \u001b[0mrequests\u001b[0m\u001b[0;34m.\u001b[0m\u001b[0mget\u001b[0m\u001b[0;34m(\u001b[0m\u001b[0murl\u001b[0m\u001b[0;34m)\u001b[0m\u001b[0;34m\u001b[0m\u001b[0;34m\u001b[0m\u001b[0m\n\u001b[0m",
            "\u001b[0;31mNameError\u001b[0m: name 'url' is not defined"
          ]
        }
      ]
    },
    {
      "cell_type": "code",
      "source": [
        ""
      ],
      "metadata": {
        "id": "Djul6dEEP7Vc"
      },
      "execution_count": null,
      "outputs": []
    }
  ]
}