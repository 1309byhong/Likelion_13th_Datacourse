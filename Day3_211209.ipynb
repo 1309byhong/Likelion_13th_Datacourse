{
  "nbformat": 4,
  "nbformat_minor": 0,
  "metadata": {
    "colab": {
      "name": "Day3_211209.ipynb",
      "provenance": [],
      "authorship_tag": "ABX9TyMlMxeGzEkiYC+p7n/+G6II",
      "include_colab_link": true
    },
    "kernelspec": {
      "name": "python3",
      "display_name": "Python 3"
    },
    "language_info": {
      "name": "python"
    }
  },
  "cells": [
    {
      "cell_type": "markdown",
      "metadata": {
        "id": "view-in-github",
        "colab_type": "text"
      },
      "source": [
        "<a href=\"https://colab.research.google.com/github/1309byhong/Likelion_13th_Datacourse/blob/main/Day3_211209.ipynb\" target=\"_parent\"><img src=\"https://colab.research.google.com/assets/colab-badge.svg\" alt=\"Open In Colab\"/></a>"
      ]
    },
    {
      "cell_type": "code",
      "execution_count": 1,
      "metadata": {
        "id": "pDAyz_nFTsca"
      },
      "outputs": [],
      "source": [
        "#딕셔너리자료형"
      ]
    },
    {
      "cell_type": "code",
      "source": [
        "d = {1:'one',2:'two'}\n",
        "print(d)\n",
        "print(type(d))"
      ],
      "metadata": {
        "colab": {
          "base_uri": "https://localhost:8080/"
        },
        "id": "FFIuQrpGUCyu",
        "outputId": "038e77ce-4926-40c2-e9fe-1ce952a605b7"
      },
      "execution_count": 2,
      "outputs": [
        {
          "output_type": "stream",
          "name": "stdout",
          "text": [
            "{1: 'one', 2: 'two'}\n",
            "<class 'dict'>\n"
          ]
        }
      ]
    },
    {
      "cell_type": "code",
      "source": [
        "#바이트 시퀀스형(Byte sequence Type)"
      ],
      "metadata": {
        "id": "WRlPhus6UVIy"
      },
      "execution_count": 3,
      "outputs": []
    },
    {
      "cell_type": "code",
      "source": [
        "byte = b'\\x00'\n",
        "print(byte)\n",
        "print(type(byte))\n",
        "\n",
        "ba = bytearray(byte)\n",
        "print(ba)\n",
        "print(type(ba))\n",
        "\n",
        "mv = memoryview(ba)\n",
        "print(mv)\n",
        "print(type(mv))"
      ],
      "metadata": {
        "colab": {
          "base_uri": "https://localhost:8080/"
        },
        "id": "6QgmjEeYUpjZ",
        "outputId": "3512cc9e-f010-4a29-8093-9c7bb88137c8"
      },
      "execution_count": 6,
      "outputs": [
        {
          "output_type": "stream",
          "name": "stdout",
          "text": [
            "b'\\x00'\n",
            "<class 'bytes'>\n",
            "bytearray(b'\\x00')\n",
            "<class 'bytearray'>\n",
            "<memory at 0x7f9be23256d0>\n",
            "<class 'memoryview'>\n"
          ]
        }
      ]
    },
    {
      "cell_type": "code",
      "source": [
        ""
      ],
      "metadata": {
        "id": "C2_nfsdMVJ_k"
      },
      "execution_count": null,
      "outputs": []
    }
  ]
}