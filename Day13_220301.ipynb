{
  "nbformat": 4,
  "nbformat_minor": 0,
  "metadata": {
    "colab": {
      "name": "Day13_220301.ipynb",
      "provenance": [],
      "authorship_tag": "ABX9TyPeYQQxnUgrNQUaQ+iP5brt",
      "include_colab_link": true
    },
    "kernelspec": {
      "name": "python3",
      "display_name": "Python 3"
    },
    "language_info": {
      "name": "python"
    }
  },
  "cells": [
    {
      "cell_type": "markdown",
      "metadata": {
        "id": "view-in-github",
        "colab_type": "text"
      },
      "source": [
        "<a href=\"https://colab.research.google.com/github/1309byhong/Likelion_13th_Datacourse/blob/main/Day13_220301.ipynb\" target=\"_parent\"><img src=\"https://colab.research.google.com/assets/colab-badge.svg\" alt=\"Open In Colab\"/></a>"
      ]
    },
    {
      "cell_type": "code",
      "execution_count": 1,
      "metadata": {
        "colab": {
          "base_uri": "https://localhost:8080/"
        },
        "id": "obqwHOKZY-aA",
        "outputId": "2ccbb15a-0491-4d33-b9fd-95b2a559985c"
      },
      "outputs": [
        {
          "output_type": "stream",
          "name": "stdout",
          "text": [
            "2022년 03월 01일의 실시간 검색어 순위입니다.\n"
          ]
        }
      ],
      "source": [
        "import requests\n",
        "from bs4 import BeautifulSoup\n",
        "from datetime import datetime\n",
        "\n",
        "url = \"https://www.daum.net/\"\n",
        "response = requests.get(url)\n",
        "soup = BeautifulSoup(response.text,'html.parser')\n",
        "rank = 1\n",
        "\n",
        "\n",
        "#file = open(\"daum.html\",\"w\")\n",
        "#file.write(response.text)\n",
        "#file.close()\n",
        "\n",
        "#print(soup.title)\n",
        "#print(soup.title.string)\n",
        "#print(soup.span)\n",
        "#print(soup.findAll('span'))\n",
        "\n",
        "results = soup.findAll('a','link_favorsch')\n",
        "\n",
        "print(datetime.today().strftime(\"%Y년 %m월 %d일의 실시간 검색어 순위입니다.\"))\n",
        "\n",
        "for result in results:\n",
        "  print(rank,\"위 : \",result.get_text(),\"\\n\")\n",
        "  rank += 1"
      ]
    },
    {
      "cell_type": "code",
      "source": [
        ""
      ],
      "metadata": {
        "id": "6mxOWwLaZaHv"
      },
      "execution_count": null,
      "outputs": []
    }
  ]
}